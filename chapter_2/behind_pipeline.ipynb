{
  "nbformat": 4,
  "nbformat_minor": 0,
  "metadata": {
    "colab": {
      "provenance": [],
      "gpuType": "T4",
      "authorship_tag": "ABX9TyOfk4T+FADU9Pa4LK2tSxqS",
      "include_colab_link": true
    },
    "kernelspec": {
      "name": "python3",
      "display_name": "Python 3"
    },
    "language_info": {
      "name": "python"
    },
    "accelerator": "GPU",
    "widgets": {
      "application/vnd.jupyter.widget-state+json": {
        "7814751c97cd40b5b6d7d33171a3465b": {
          "model_module": "@jupyter-widgets/controls",
          "model_name": "HBoxModel",
          "model_module_version": "1.5.0",
          "state": {
            "_dom_classes": [],
            "_model_module": "@jupyter-widgets/controls",
            "_model_module_version": "1.5.0",
            "_model_name": "HBoxModel",
            "_view_count": null,
            "_view_module": "@jupyter-widgets/controls",
            "_view_module_version": "1.5.0",
            "_view_name": "HBoxView",
            "box_style": "",
            "children": [
              "IPY_MODEL_9913c1b0afe74b0eb2f51e172fc51a26",
              "IPY_MODEL_7bb6a68ce3a649458bf496090b4842a6",
              "IPY_MODEL_3eb720e691044529ab19c8e54ab298f8"
            ],
            "layout": "IPY_MODEL_2fbd1d1896b74eb2bf49fcdf76aabbb0"
          }
        },
        "9913c1b0afe74b0eb2f51e172fc51a26": {
          "model_module": "@jupyter-widgets/controls",
          "model_name": "HTMLModel",
          "model_module_version": "1.5.0",
          "state": {
            "_dom_classes": [],
            "_model_module": "@jupyter-widgets/controls",
            "_model_module_version": "1.5.0",
            "_model_name": "HTMLModel",
            "_view_count": null,
            "_view_module": "@jupyter-widgets/controls",
            "_view_module_version": "1.5.0",
            "_view_name": "HTMLView",
            "description": "",
            "description_tooltip": null,
            "layout": "IPY_MODEL_a1f0f6e010e54affac07619d09dc69ac",
            "placeholder": "​",
            "style": "IPY_MODEL_35ac8cd8c54e4552bbdb7f9b192aa822",
            "value": "tokenizer_config.json: 100%"
          }
        },
        "7bb6a68ce3a649458bf496090b4842a6": {
          "model_module": "@jupyter-widgets/controls",
          "model_name": "FloatProgressModel",
          "model_module_version": "1.5.0",
          "state": {
            "_dom_classes": [],
            "_model_module": "@jupyter-widgets/controls",
            "_model_module_version": "1.5.0",
            "_model_name": "FloatProgressModel",
            "_view_count": null,
            "_view_module": "@jupyter-widgets/controls",
            "_view_module_version": "1.5.0",
            "_view_name": "ProgressView",
            "bar_style": "success",
            "description": "",
            "description_tooltip": null,
            "layout": "IPY_MODEL_c0d23749bb2844078d1d6b069305d2dd",
            "max": 48,
            "min": 0,
            "orientation": "horizontal",
            "style": "IPY_MODEL_d2a5e24f9cfe4d168f0ae67559c267b4",
            "value": 48
          }
        },
        "3eb720e691044529ab19c8e54ab298f8": {
          "model_module": "@jupyter-widgets/controls",
          "model_name": "HTMLModel",
          "model_module_version": "1.5.0",
          "state": {
            "_dom_classes": [],
            "_model_module": "@jupyter-widgets/controls",
            "_model_module_version": "1.5.0",
            "_model_name": "HTMLModel",
            "_view_count": null,
            "_view_module": "@jupyter-widgets/controls",
            "_view_module_version": "1.5.0",
            "_view_name": "HTMLView",
            "description": "",
            "description_tooltip": null,
            "layout": "IPY_MODEL_8661fad130704eb6a6deca2dce0bdea8",
            "placeholder": "​",
            "style": "IPY_MODEL_4d98ff14910a4511b7143c86331eccef",
            "value": " 48.0/48.0 [00:00&lt;00:00, 4.81kB/s]"
          }
        },
        "2fbd1d1896b74eb2bf49fcdf76aabbb0": {
          "model_module": "@jupyter-widgets/base",
          "model_name": "LayoutModel",
          "model_module_version": "1.2.0",
          "state": {
            "_model_module": "@jupyter-widgets/base",
            "_model_module_version": "1.2.0",
            "_model_name": "LayoutModel",
            "_view_count": null,
            "_view_module": "@jupyter-widgets/base",
            "_view_module_version": "1.2.0",
            "_view_name": "LayoutView",
            "align_content": null,
            "align_items": null,
            "align_self": null,
            "border": null,
            "bottom": null,
            "display": null,
            "flex": null,
            "flex_flow": null,
            "grid_area": null,
            "grid_auto_columns": null,
            "grid_auto_flow": null,
            "grid_auto_rows": null,
            "grid_column": null,
            "grid_gap": null,
            "grid_row": null,
            "grid_template_areas": null,
            "grid_template_columns": null,
            "grid_template_rows": null,
            "height": null,
            "justify_content": null,
            "justify_items": null,
            "left": null,
            "margin": null,
            "max_height": null,
            "max_width": null,
            "min_height": null,
            "min_width": null,
            "object_fit": null,
            "object_position": null,
            "order": null,
            "overflow": null,
            "overflow_x": null,
            "overflow_y": null,
            "padding": null,
            "right": null,
            "top": null,
            "visibility": null,
            "width": null
          }
        },
        "a1f0f6e010e54affac07619d09dc69ac": {
          "model_module": "@jupyter-widgets/base",
          "model_name": "LayoutModel",
          "model_module_version": "1.2.0",
          "state": {
            "_model_module": "@jupyter-widgets/base",
            "_model_module_version": "1.2.0",
            "_model_name": "LayoutModel",
            "_view_count": null,
            "_view_module": "@jupyter-widgets/base",
            "_view_module_version": "1.2.0",
            "_view_name": "LayoutView",
            "align_content": null,
            "align_items": null,
            "align_self": null,
            "border": null,
            "bottom": null,
            "display": null,
            "flex": null,
            "flex_flow": null,
            "grid_area": null,
            "grid_auto_columns": null,
            "grid_auto_flow": null,
            "grid_auto_rows": null,
            "grid_column": null,
            "grid_gap": null,
            "grid_row": null,
            "grid_template_areas": null,
            "grid_template_columns": null,
            "grid_template_rows": null,
            "height": null,
            "justify_content": null,
            "justify_items": null,
            "left": null,
            "margin": null,
            "max_height": null,
            "max_width": null,
            "min_height": null,
            "min_width": null,
            "object_fit": null,
            "object_position": null,
            "order": null,
            "overflow": null,
            "overflow_x": null,
            "overflow_y": null,
            "padding": null,
            "right": null,
            "top": null,
            "visibility": null,
            "width": null
          }
        },
        "35ac8cd8c54e4552bbdb7f9b192aa822": {
          "model_module": "@jupyter-widgets/controls",
          "model_name": "DescriptionStyleModel",
          "model_module_version": "1.5.0",
          "state": {
            "_model_module": "@jupyter-widgets/controls",
            "_model_module_version": "1.5.0",
            "_model_name": "DescriptionStyleModel",
            "_view_count": null,
            "_view_module": "@jupyter-widgets/base",
            "_view_module_version": "1.2.0",
            "_view_name": "StyleView",
            "description_width": ""
          }
        },
        "c0d23749bb2844078d1d6b069305d2dd": {
          "model_module": "@jupyter-widgets/base",
          "model_name": "LayoutModel",
          "model_module_version": "1.2.0",
          "state": {
            "_model_module": "@jupyter-widgets/base",
            "_model_module_version": "1.2.0",
            "_model_name": "LayoutModel",
            "_view_count": null,
            "_view_module": "@jupyter-widgets/base",
            "_view_module_version": "1.2.0",
            "_view_name": "LayoutView",
            "align_content": null,
            "align_items": null,
            "align_self": null,
            "border": null,
            "bottom": null,
            "display": null,
            "flex": null,
            "flex_flow": null,
            "grid_area": null,
            "grid_auto_columns": null,
            "grid_auto_flow": null,
            "grid_auto_rows": null,
            "grid_column": null,
            "grid_gap": null,
            "grid_row": null,
            "grid_template_areas": null,
            "grid_template_columns": null,
            "grid_template_rows": null,
            "height": null,
            "justify_content": null,
            "justify_items": null,
            "left": null,
            "margin": null,
            "max_height": null,
            "max_width": null,
            "min_height": null,
            "min_width": null,
            "object_fit": null,
            "object_position": null,
            "order": null,
            "overflow": null,
            "overflow_x": null,
            "overflow_y": null,
            "padding": null,
            "right": null,
            "top": null,
            "visibility": null,
            "width": null
          }
        },
        "d2a5e24f9cfe4d168f0ae67559c267b4": {
          "model_module": "@jupyter-widgets/controls",
          "model_name": "ProgressStyleModel",
          "model_module_version": "1.5.0",
          "state": {
            "_model_module": "@jupyter-widgets/controls",
            "_model_module_version": "1.5.0",
            "_model_name": "ProgressStyleModel",
            "_view_count": null,
            "_view_module": "@jupyter-widgets/base",
            "_view_module_version": "1.2.0",
            "_view_name": "StyleView",
            "bar_color": null,
            "description_width": ""
          }
        },
        "8661fad130704eb6a6deca2dce0bdea8": {
          "model_module": "@jupyter-widgets/base",
          "model_name": "LayoutModel",
          "model_module_version": "1.2.0",
          "state": {
            "_model_module": "@jupyter-widgets/base",
            "_model_module_version": "1.2.0",
            "_model_name": "LayoutModel",
            "_view_count": null,
            "_view_module": "@jupyter-widgets/base",
            "_view_module_version": "1.2.0",
            "_view_name": "LayoutView",
            "align_content": null,
            "align_items": null,
            "align_self": null,
            "border": null,
            "bottom": null,
            "display": null,
            "flex": null,
            "flex_flow": null,
            "grid_area": null,
            "grid_auto_columns": null,
            "grid_auto_flow": null,
            "grid_auto_rows": null,
            "grid_column": null,
            "grid_gap": null,
            "grid_row": null,
            "grid_template_areas": null,
            "grid_template_columns": null,
            "grid_template_rows": null,
            "height": null,
            "justify_content": null,
            "justify_items": null,
            "left": null,
            "margin": null,
            "max_height": null,
            "max_width": null,
            "min_height": null,
            "min_width": null,
            "object_fit": null,
            "object_position": null,
            "order": null,
            "overflow": null,
            "overflow_x": null,
            "overflow_y": null,
            "padding": null,
            "right": null,
            "top": null,
            "visibility": null,
            "width": null
          }
        },
        "4d98ff14910a4511b7143c86331eccef": {
          "model_module": "@jupyter-widgets/controls",
          "model_name": "DescriptionStyleModel",
          "model_module_version": "1.5.0",
          "state": {
            "_model_module": "@jupyter-widgets/controls",
            "_model_module_version": "1.5.0",
            "_model_name": "DescriptionStyleModel",
            "_view_count": null,
            "_view_module": "@jupyter-widgets/base",
            "_view_module_version": "1.2.0",
            "_view_name": "StyleView",
            "description_width": ""
          }
        },
        "9af8a989a610408c837d4ff776f6e9bb": {
          "model_module": "@jupyter-widgets/controls",
          "model_name": "HBoxModel",
          "model_module_version": "1.5.0",
          "state": {
            "_dom_classes": [],
            "_model_module": "@jupyter-widgets/controls",
            "_model_module_version": "1.5.0",
            "_model_name": "HBoxModel",
            "_view_count": null,
            "_view_module": "@jupyter-widgets/controls",
            "_view_module_version": "1.5.0",
            "_view_name": "HBoxView",
            "box_style": "",
            "children": [
              "IPY_MODEL_f6055a94c5f1453e8760d195a03c2fe4",
              "IPY_MODEL_7cbb59c8a62a4553bdace1d93434f3db",
              "IPY_MODEL_31437f0140314fb6a11ab05ead51ec84"
            ],
            "layout": "IPY_MODEL_8fcc3b6f26ab419b83c3c12c4b54e1f5"
          }
        },
        "f6055a94c5f1453e8760d195a03c2fe4": {
          "model_module": "@jupyter-widgets/controls",
          "model_name": "HTMLModel",
          "model_module_version": "1.5.0",
          "state": {
            "_dom_classes": [],
            "_model_module": "@jupyter-widgets/controls",
            "_model_module_version": "1.5.0",
            "_model_name": "HTMLModel",
            "_view_count": null,
            "_view_module": "@jupyter-widgets/controls",
            "_view_module_version": "1.5.0",
            "_view_name": "HTMLView",
            "description": "",
            "description_tooltip": null,
            "layout": "IPY_MODEL_72fe748ff0fe4deb851b3140bd044b1e",
            "placeholder": "​",
            "style": "IPY_MODEL_b9d1444084cd451b94b8b34a7153da54",
            "value": "vocab.txt: 100%"
          }
        },
        "7cbb59c8a62a4553bdace1d93434f3db": {
          "model_module": "@jupyter-widgets/controls",
          "model_name": "FloatProgressModel",
          "model_module_version": "1.5.0",
          "state": {
            "_dom_classes": [],
            "_model_module": "@jupyter-widgets/controls",
            "_model_module_version": "1.5.0",
            "_model_name": "FloatProgressModel",
            "_view_count": null,
            "_view_module": "@jupyter-widgets/controls",
            "_view_module_version": "1.5.0",
            "_view_name": "ProgressView",
            "bar_style": "success",
            "description": "",
            "description_tooltip": null,
            "layout": "IPY_MODEL_5fa690a81d9a497aa0373cc6e79630df",
            "max": 231508,
            "min": 0,
            "orientation": "horizontal",
            "style": "IPY_MODEL_e09842a4078e4c1ead1920a2835d610e",
            "value": 231508
          }
        },
        "31437f0140314fb6a11ab05ead51ec84": {
          "model_module": "@jupyter-widgets/controls",
          "model_name": "HTMLModel",
          "model_module_version": "1.5.0",
          "state": {
            "_dom_classes": [],
            "_model_module": "@jupyter-widgets/controls",
            "_model_module_version": "1.5.0",
            "_model_name": "HTMLModel",
            "_view_count": null,
            "_view_module": "@jupyter-widgets/controls",
            "_view_module_version": "1.5.0",
            "_view_name": "HTMLView",
            "description": "",
            "description_tooltip": null,
            "layout": "IPY_MODEL_155c5fc4bf9b459ab3f0a3cf8138200c",
            "placeholder": "​",
            "style": "IPY_MODEL_589321e538bf4411bc8df476429730ad",
            "value": " 232k/232k [00:00&lt;00:00, 3.05MB/s]"
          }
        },
        "8fcc3b6f26ab419b83c3c12c4b54e1f5": {
          "model_module": "@jupyter-widgets/base",
          "model_name": "LayoutModel",
          "model_module_version": "1.2.0",
          "state": {
            "_model_module": "@jupyter-widgets/base",
            "_model_module_version": "1.2.0",
            "_model_name": "LayoutModel",
            "_view_count": null,
            "_view_module": "@jupyter-widgets/base",
            "_view_module_version": "1.2.0",
            "_view_name": "LayoutView",
            "align_content": null,
            "align_items": null,
            "align_self": null,
            "border": null,
            "bottom": null,
            "display": null,
            "flex": null,
            "flex_flow": null,
            "grid_area": null,
            "grid_auto_columns": null,
            "grid_auto_flow": null,
            "grid_auto_rows": null,
            "grid_column": null,
            "grid_gap": null,
            "grid_row": null,
            "grid_template_areas": null,
            "grid_template_columns": null,
            "grid_template_rows": null,
            "height": null,
            "justify_content": null,
            "justify_items": null,
            "left": null,
            "margin": null,
            "max_height": null,
            "max_width": null,
            "min_height": null,
            "min_width": null,
            "object_fit": null,
            "object_position": null,
            "order": null,
            "overflow": null,
            "overflow_x": null,
            "overflow_y": null,
            "padding": null,
            "right": null,
            "top": null,
            "visibility": null,
            "width": null
          }
        },
        "72fe748ff0fe4deb851b3140bd044b1e": {
          "model_module": "@jupyter-widgets/base",
          "model_name": "LayoutModel",
          "model_module_version": "1.2.0",
          "state": {
            "_model_module": "@jupyter-widgets/base",
            "_model_module_version": "1.2.0",
            "_model_name": "LayoutModel",
            "_view_count": null,
            "_view_module": "@jupyter-widgets/base",
            "_view_module_version": "1.2.0",
            "_view_name": "LayoutView",
            "align_content": null,
            "align_items": null,
            "align_self": null,
            "border": null,
            "bottom": null,
            "display": null,
            "flex": null,
            "flex_flow": null,
            "grid_area": null,
            "grid_auto_columns": null,
            "grid_auto_flow": null,
            "grid_auto_rows": null,
            "grid_column": null,
            "grid_gap": null,
            "grid_row": null,
            "grid_template_areas": null,
            "grid_template_columns": null,
            "grid_template_rows": null,
            "height": null,
            "justify_content": null,
            "justify_items": null,
            "left": null,
            "margin": null,
            "max_height": null,
            "max_width": null,
            "min_height": null,
            "min_width": null,
            "object_fit": null,
            "object_position": null,
            "order": null,
            "overflow": null,
            "overflow_x": null,
            "overflow_y": null,
            "padding": null,
            "right": null,
            "top": null,
            "visibility": null,
            "width": null
          }
        },
        "b9d1444084cd451b94b8b34a7153da54": {
          "model_module": "@jupyter-widgets/controls",
          "model_name": "DescriptionStyleModel",
          "model_module_version": "1.5.0",
          "state": {
            "_model_module": "@jupyter-widgets/controls",
            "_model_module_version": "1.5.0",
            "_model_name": "DescriptionStyleModel",
            "_view_count": null,
            "_view_module": "@jupyter-widgets/base",
            "_view_module_version": "1.2.0",
            "_view_name": "StyleView",
            "description_width": ""
          }
        },
        "5fa690a81d9a497aa0373cc6e79630df": {
          "model_module": "@jupyter-widgets/base",
          "model_name": "LayoutModel",
          "model_module_version": "1.2.0",
          "state": {
            "_model_module": "@jupyter-widgets/base",
            "_model_module_version": "1.2.0",
            "_model_name": "LayoutModel",
            "_view_count": null,
            "_view_module": "@jupyter-widgets/base",
            "_view_module_version": "1.2.0",
            "_view_name": "LayoutView",
            "align_content": null,
            "align_items": null,
            "align_self": null,
            "border": null,
            "bottom": null,
            "display": null,
            "flex": null,
            "flex_flow": null,
            "grid_area": null,
            "grid_auto_columns": null,
            "grid_auto_flow": null,
            "grid_auto_rows": null,
            "grid_column": null,
            "grid_gap": null,
            "grid_row": null,
            "grid_template_areas": null,
            "grid_template_columns": null,
            "grid_template_rows": null,
            "height": null,
            "justify_content": null,
            "justify_items": null,
            "left": null,
            "margin": null,
            "max_height": null,
            "max_width": null,
            "min_height": null,
            "min_width": null,
            "object_fit": null,
            "object_position": null,
            "order": null,
            "overflow": null,
            "overflow_x": null,
            "overflow_y": null,
            "padding": null,
            "right": null,
            "top": null,
            "visibility": null,
            "width": null
          }
        },
        "e09842a4078e4c1ead1920a2835d610e": {
          "model_module": "@jupyter-widgets/controls",
          "model_name": "ProgressStyleModel",
          "model_module_version": "1.5.0",
          "state": {
            "_model_module": "@jupyter-widgets/controls",
            "_model_module_version": "1.5.0",
            "_model_name": "ProgressStyleModel",
            "_view_count": null,
            "_view_module": "@jupyter-widgets/base",
            "_view_module_version": "1.2.0",
            "_view_name": "StyleView",
            "bar_color": null,
            "description_width": ""
          }
        },
        "155c5fc4bf9b459ab3f0a3cf8138200c": {
          "model_module": "@jupyter-widgets/base",
          "model_name": "LayoutModel",
          "model_module_version": "1.2.0",
          "state": {
            "_model_module": "@jupyter-widgets/base",
            "_model_module_version": "1.2.0",
            "_model_name": "LayoutModel",
            "_view_count": null,
            "_view_module": "@jupyter-widgets/base",
            "_view_module_version": "1.2.0",
            "_view_name": "LayoutView",
            "align_content": null,
            "align_items": null,
            "align_self": null,
            "border": null,
            "bottom": null,
            "display": null,
            "flex": null,
            "flex_flow": null,
            "grid_area": null,
            "grid_auto_columns": null,
            "grid_auto_flow": null,
            "grid_auto_rows": null,
            "grid_column": null,
            "grid_gap": null,
            "grid_row": null,
            "grid_template_areas": null,
            "grid_template_columns": null,
            "grid_template_rows": null,
            "height": null,
            "justify_content": null,
            "justify_items": null,
            "left": null,
            "margin": null,
            "max_height": null,
            "max_width": null,
            "min_height": null,
            "min_width": null,
            "object_fit": null,
            "object_position": null,
            "order": null,
            "overflow": null,
            "overflow_x": null,
            "overflow_y": null,
            "padding": null,
            "right": null,
            "top": null,
            "visibility": null,
            "width": null
          }
        },
        "589321e538bf4411bc8df476429730ad": {
          "model_module": "@jupyter-widgets/controls",
          "model_name": "DescriptionStyleModel",
          "model_module_version": "1.5.0",
          "state": {
            "_model_module": "@jupyter-widgets/controls",
            "_model_module_version": "1.5.0",
            "_model_name": "DescriptionStyleModel",
            "_view_count": null,
            "_view_module": "@jupyter-widgets/base",
            "_view_module_version": "1.2.0",
            "_view_name": "StyleView",
            "description_width": ""
          }
        }
      }
    }
  },
  "cells": [
    {
      "cell_type": "markdown",
      "metadata": {
        "id": "view-in-github",
        "colab_type": "text"
      },
      "source": [
        "<a href=\"https://colab.research.google.com/github/SSRavipati/LLM-course/blob/main/chapter_2/behind_pipeline.ipynb\" target=\"_parent\"><img src=\"https://colab.research.google.com/assets/colab-badge.svg\" alt=\"Open In Colab\"/></a>"
      ]
    },
    {
      "cell_type": "code",
      "execution_count": 1,
      "metadata": {
        "colab": {
          "base_uri": "https://localhost:8080/"
        },
        "id": "umzVTSMgSLes",
        "outputId": "02091c4c-7375-408e-f3ab-3cf31f4849c1"
      },
      "outputs": [
        {
          "output_type": "stream",
          "name": "stdout",
          "text": [
            "Requirement already satisfied: transformers in /usr/local/lib/python3.11/dist-packages (4.52.2)\n",
            "Requirement already satisfied: filelock in /usr/local/lib/python3.11/dist-packages (from transformers) (3.18.0)\n",
            "Requirement already satisfied: huggingface-hub<1.0,>=0.30.0 in /usr/local/lib/python3.11/dist-packages (from transformers) (0.31.4)\n",
            "Requirement already satisfied: numpy>=1.17 in /usr/local/lib/python3.11/dist-packages (from transformers) (2.0.2)\n",
            "Requirement already satisfied: packaging>=20.0 in /usr/local/lib/python3.11/dist-packages (from transformers) (24.2)\n",
            "Requirement already satisfied: pyyaml>=5.1 in /usr/local/lib/python3.11/dist-packages (from transformers) (6.0.2)\n",
            "Requirement already satisfied: regex!=2019.12.17 in /usr/local/lib/python3.11/dist-packages (from transformers) (2024.11.6)\n",
            "Requirement already satisfied: requests in /usr/local/lib/python3.11/dist-packages (from transformers) (2.32.3)\n",
            "Requirement already satisfied: tokenizers<0.22,>=0.21 in /usr/local/lib/python3.11/dist-packages (from transformers) (0.21.1)\n",
            "Requirement already satisfied: safetensors>=0.4.3 in /usr/local/lib/python3.11/dist-packages (from transformers) (0.5.3)\n",
            "Requirement already satisfied: tqdm>=4.27 in /usr/local/lib/python3.11/dist-packages (from transformers) (4.67.1)\n",
            "Requirement already satisfied: fsspec>=2023.5.0 in /usr/local/lib/python3.11/dist-packages (from huggingface-hub<1.0,>=0.30.0->transformers) (2025.3.2)\n",
            "Requirement already satisfied: typing-extensions>=3.7.4.3 in /usr/local/lib/python3.11/dist-packages (from huggingface-hub<1.0,>=0.30.0->transformers) (4.13.2)\n",
            "Requirement already satisfied: charset-normalizer<4,>=2 in /usr/local/lib/python3.11/dist-packages (from requests->transformers) (3.4.2)\n",
            "Requirement already satisfied: idna<4,>=2.5 in /usr/local/lib/python3.11/dist-packages (from requests->transformers) (3.10)\n",
            "Requirement already satisfied: urllib3<3,>=1.21.1 in /usr/local/lib/python3.11/dist-packages (from requests->transformers) (2.4.0)\n",
            "Requirement already satisfied: certifi>=2017.4.17 in /usr/local/lib/python3.11/dist-packages (from requests->transformers) (2025.4.26)\n"
          ]
        }
      ],
      "source": [
        "!pip install transformers"
      ]
    },
    {
      "cell_type": "code",
      "source": [
        "import transformers"
      ],
      "metadata": {
        "id": "SlejsfqWXMXp"
      },
      "execution_count": 4,
      "outputs": []
    },
    {
      "cell_type": "markdown",
      "source": [
        "PIPELINE is a function in transformers, that has a pre processor, model, and post processor\n"
      ],
      "metadata": {
        "id": "kE9tKoy8X5hz"
      }
    },
    {
      "cell_type": "code",
      "source": [
        "from transformers import pipeline"
      ],
      "metadata": {
        "id": "-bYM33s0XOtw"
      },
      "execution_count": 5,
      "outputs": []
    },
    {
      "cell_type": "code",
      "source": [
        "classifier = pipeline(\"sentiment-analysis\")\n",
        "classifier([\"EU countries push for swift trade with trump\",\n",
        "            \"Gold prices are falling\"])"
      ],
      "metadata": {
        "colab": {
          "base_uri": "https://localhost:8080/"
        },
        "id": "QyLW5MdyX4YS",
        "outputId": "bf8c028a-9f82-4c3d-9841-92ce9b58d052"
      },
      "execution_count": 7,
      "outputs": [
        {
          "output_type": "stream",
          "name": "stderr",
          "text": [
            "No model was supplied, defaulted to distilbert/distilbert-base-uncased-finetuned-sst-2-english and revision 714eb0f (https://huggingface.co/distilbert/distilbert-base-uncased-finetuned-sst-2-english).\n",
            "Using a pipeline without specifying a model name and revision in production is not recommended.\n",
            "Device set to use cuda:0\n"
          ]
        },
        {
          "output_type": "execute_result",
          "data": {
            "text/plain": [
              "[{'label': 'NEGATIVE', 'score': 0.5303354859352112},\n",
              " {'label': 'NEGATIVE', 'score': 0.9995725750923157}]"
            ]
          },
          "metadata": {},
          "execution_count": 7
        }
      ]
    },
    {
      "cell_type": "markdown",
      "source": [
        "**BEHIND THE PIPELINE**"
      ],
      "metadata": {
        "id": "9n890OCqGChf"
      }
    },
    {
      "cell_type": "markdown",
      "source": [
        "![image.png](data:image/png;base64,iVBORw0KGgoAAAANSUhEUgAABcoAAAGDCAYAAAAbEiP6AAAAAXNSR0IArs4c6QAAAARnQU1BAACxjwv8YQUAAAAJcEhZcwAAFiUAABYlAUlSJPAAAHX8SURBVHhe7d13eBTVHsbxd2Z2Nz2hhA5SRIqg9I6CvaAoqCCiKCBiw4Yodq6967Ureu1dURSsoKCAYO8KKIKI9Jq+be4fW8hOAoSezXw/z7P3hnNmliSGkzPvnPkdIzOnni0AAAAAAAAAAFzKdDYAAAAAAAAAAOAmBOUAAAAAAAAAAFcjKAcAAAAAAAAAuBpBOQAAAAAAAADA1QjKAQAAAAAAAACuRlAOAAAAAAAAAHA1gnIAAAAAAAAAgKsRlAMAAAAAAAAAXI2gHAAAAAAAAADgagTlAAAAAAAAAABXIygHAAAAAAAAALgaQTkAAAAAAAAAwNUIygEAAAAAAAAArkZQDgAAAAAAAABwNYJyAAAAAAAAAICrEZQDAAAAAAAAAFyNoBwAAAAAAAAA4GoE5QAAAAAAAAAAVyMoBwAAAAAAAAC4GkE5AAAAAAAAAMDVCMoBAAAAAAAAAK5GUA4AAAAAAAAAcDWCcgAAAAAAAACAqxGUAwAAAAAAAABcjaAcAAAAAAAAAOBqBOUAAAAAAAAAAFcjKAcAAAAAAAAAuBpBOQAAAAAAAADA1QjKAQAAAAAAAACuRlAOAAAAAAAAAHA1gnIAAAAAAAAAgKsRlAMAAAAAAAAAXI2gHAAAAAAAAADgagTlAAAAAAAAAABXIygHAAAAAAAAALgaQTkAAAAAAAAAwNUIygEAAAAAAAAArkZQDgAAAAAAAABwNYJyAAAAAAAAAICrEZQDAAAAAAAAAFyNoBwAAAAAAAAA4GoE5QAAAAAAAAAAVyMoBwAAAAAAAAC4GkE5AAAAAAAAAMDVCMoBAAAAAAAAAK5GUA4AAAAAAAAAcDWCcgAAAAAAAACAqxGUAwAAAAAAAABcjaAcAAAAAAAAAOBqBOUAAAAAAAAAAFcjKAcAAAAAAAAAuBpBOQAAAAAAAADA1QjKAQAAAAAAAACuRlAOAAAAAAAAAHA1gnIAAAAAAAAAgKsRlAMAAAAAAAAAXI2gHAAAAAAAAADgagTlAAAAAAAAAABXIygHAAAAAAAAALgaQTkAAAAAAAAAwNUIygEAAAAAAAAArkZQDgAAAAAAAABwNYJyAAAAAAAAAICrEZQDAAAAAAAAAFyNoBwAAAAAAAAA4GoE5QAAAAAAAAAAVyMoBwAAAAAAAAC4GkE5AAAAAAAAAMDVCMoBAAAAAAAAAK5GUA4AAAAAAAAAcDWCcgAAAAAAAACAqxGUAwAAAAAAAABcjaAcAAAAAAAAAOBqBOUAAAAAAAAAAFcjKAcAAAAAAAAAuBpBOQAAAAAAAADA1QjKAQAAAAAAAACuZmTm1LOdjQDczTQ9MkxLluWRDEuGYciQIRmG81AAu40t2bZs25YdDitsBxUOh2SHA7L5zV1lGaYly7RkmB4ZpinDsBh/gT3Ojg7BYdl2ODL22iGFQ0HZdth5MKoIwzBlWB6ZpiXTsGQapmSYkiFF/wfAnmDbsmXLtkOROXA4pHA4IDvM+Atg9yMoByDDMGV5fJGX5d18MRCbpETnJLbBcAHsKYZtxP8pGoaZkJOGQwEFQ36Fgn7Z4dDmDiQly5Mij8cn0/LKMCIP+9mSbDtys0S2LZuMBtjDDBnR/zXMzf8Aw+GQQqEShQIBhcOBhDOQfEzLG53/+mSaVrzdDkfnwJE/lToDwO5m2IosEIgu1orNgcN2WHYooGCwRKGg33kaAOwSBOWAi1mWV5Y3TR6PT1Jk5VQoHJYdshWOrmQFUEkYkmmYMk1TpmnINCOBaigUUChYrGCgxHkGKjHDtOTxpsrjSZVhGLJtW6FQbPUq4y9QmUTyGiOysMA0ZFqmJEPhcFChQIkCgWLC1KRiyONNk8ebEg/Hw6GQQmE7MgbbkScKAFQOhhGZ9xqGIY9lStF5UzBYrGCgmEUjAHYpgnLAhSyPTx5vqizLFw9nwqFQ5MIAQFIwZMj0mPJYkfJI4XBIAX+hQkEC88rMMC35fGmyPKmSpFAoFBmDeZwYSCqmZcqyTFmmJclWwF+kYKCQ0liVmCFDHl+avL40SYZC4bBCoZDCIcZfIJmYpiHLsmRFb1qGgiXy+wsJzAHsEgTlgIsYhiVvSro8nhSFoxcHIS4OgKRnWpHA3DRNhcMB+UsKFQ5REqCy8frS5fWlS5KCwaCCoRCrFoEkZ5iGLMsjj2XKtsPylxRww7IS8nhS5PVlyjANBYOhaM1jBmAgmRmGIuOvJ/JkSMBfqIC/0HkYAGwXgnLAJTzeVHlTMmTIiAQ0Qe64A1WNaZnyeDwyDYOLhUrEtLzypWTKNC2FgiEFQ0FWnQJVjGEY8no9Mk0zsrqxpICNPysBwzTl82XI8qQoFA4pGIiUuAJQdRiG5PF4ZFmWwuGg/MUF7CEBYIcRlAMu4EvJlMebqnAopEAwRO1boIrzeD3yWJZCoYD8xXmEAnuR15smb0qGwmFbwWCAFYxAFWdZljwej6Sw/MV5CvF0z15jeXzypWRKhqlgIKhQiEUiQFVmmqY8nsgTln5/voL+YuchALBNBOVAVWYYSknNlmV5FQxEH/MH4AqmZcnn9ci2QyopzqcUy17gTcmQ15umUCikQCDEZn+AS5imEXm6xzTlL85TkFIse5zHmypfSqbC4bCCgSD78ABuYUje6OryQKBIgZIC5xEAsFWmswFA1WCYplLTcmRZXvkDAUJywGXCoZD8fr9smUpNi9www56TkpolrzdNwWBIgUCQkBxwkXDYlt8fUDgUli86FmDP8XrT5EvJVCgcivx3ICQH3MOWAoGggsFgZCxIzXIeAQBbRVAOVEWGIV9KtkzTI7/frzAbdgKuFA7bCvj9CoellLRsmZbHeQh2A19KpixPigLByIUaAHeKLFQIy5uSIQ9h+R4R25MnFAop4Gf8BdwqGAwpGAzK40mJlGACgAoiKAeqoEi5FSsSklMPF3A125YC/kAkLE/NlmFYzkOwC/l8GfJ4UxUMBhVi02TA9YKBgEKhsHwpkQ0lsftY0UAsUu6KkBxwu3hY7k2V15fu7AaAchGUA1WMLyUjWm4lSEgOQJJky1YwEJBkKiWVVTW7i+VJkceXpmAwqCAhOYCoQCCgcDgsX2qmTJMne3YH07TkS81SOBQmJAcQFwyGFAqG5PWly+NJdXYDQBkE5UAVYnlS5fGmKRAMUm4FQIKwHQnLTcsrb0qGsxs7yTQ9SknNUjgUIiQHUEYgEJBhS75Uxt/dwZeSJdk2ITmAMgLBoELhsLwpmTJMnqwEsHUE5UAVYRimUlIyFAqHedwfQLlC4bCCwZC83jRZHp+zGzvBm5Ih27YVCDD+AijLtqVAICTT9FICYBfz+tJlWh4FAkHZbJwMoBzBQEAybPl83KwEsHUE5UAV4U1Jl2QoyEoaAFsRDEbKMnm5UNhlPN5UWZZXwUCIkAbAFoXCIYVCkRIAJqsadwnT9MjrS1cwGFI4zNOUAMpn21IwEJTl8cnjpQQLgC0jKAeqANPyyuNJVSAUlG0T0gDYumAwKNO05PWmObuwnQxD8nqjT/OEWU0OYOsCgchcjVXlu4bXly7btil5BWCbQqHIXC0y/hrObgCQCMqBqsHnTZNt25RcAVAh4XBY4VBYHi9Bzc7yeNNlmDzNA6DiQqGQLE+KTMvr7MJ2sCyvLI8vGpKzUATAtoWCYRmGKY+PVeUAykdQDiQ50/LIjF8kAEDFBEMhGabBhcJO8njTFAqFeJoHQIUFgyHJtuXl8f+d4vGmRhaKhJgDA6iYcDisUCjMU5UAtoigHEhy3thqci4SAGyH+KpyDxcKO8rypMgwDIVC1MUFsH2CoXBkDKFW+Q4xTEuWJ0VB5r8AtlMoFIqsKvdwsxJAWQTlQBIzZMi0UhRi8yIAOyAYDsk0LR7/30Eeb2rkhgNjMIDtFFvg4PGkOLtQAbHvWzjI+Atg+4TDYdm2LcvL+AugLIJyIIlZXp8MQwqzmgbADgiHwpJty7K4UNhehmHKsryE5AB2iG3bCoUjq8qx/SxPZKGITW1yADsgFAzLsrwyDCIxAIkYFYAkZpo+2batcJiLBAA7JhS25fH4nM3YBiv6PaPsCoAdFQ6FZZqWDJNLsu1hmJZM02KhCIAdFgpHxg+LpyoBODArA5KY5WE1I4CdEw6HZZgmQc12Mi2vwrbNJp4AdlhsDmdZ3KzcHrFgi4UiAHaUbduy7bBMxl8ADlwVA0nKME0ZhklQDmCnhFlRs0MsyxMpXQMAO8i2bdlhm/F3O5mWJxpyEZQD2HFhxl8A5SAoB5KUaUZ+qduspgGwE2w7EtYYpsfZhS0wDEOGYRHSANhpth2WYVrOZmyFaXqZ/wLYaWHbjjxRaRjOLgAuRlAOJCkzelEVJqgBsJNs246PKdi2WKhl26woB7Bzwoy/280wTea/AHZa7IabyWIRAKUQlANJyjBMVjMC2CVs2TIMgpqKMo3I9IkhGMCuYciIjivYOsMwZchgDgxgp8XGEcZfAKUxIgBJiqAcwK5ihyWDKUHFEZQD2EViKxoNHv2vkFigxRwYwM4iKAdQHkYEIFlxQQVgl7Fj2S8qwjAk2dEXAOw4OzqOEJRXEN8nAACwG3FZDCQtm4wGwC7DcFJxkcf+CWsA7ALRsYQxuILi3yi+YwB2EaZ0AEohKAcAAAAAAAAAuBpBOQAAAAAAAADA1QjKAQAAAAAAAACuRlAOAAAAAAAAAHA1gnIAAAAAAAAAgKsRlAMAAAAAAAAAXI2gHAAAAAAAAADgagTlAAAAAAAAAABXIygHAAAAAAAAALgaQTkAAAAAAAAAwNUIygEAAAAAAAAArkZQDgAAAAAAAABwNYJyAAAAAAAAAICrEZQDAAAAAAAAAFyNoBwAAAAAAAAA4GoE5QAAAAAAAAAAVyMoBwAAAAAAAAC4GkE5AAAAAAAAAMDVCMoBAAAAAAAAAK5GUA4AAAAAAAAAcDWCcgAAAAAAAACAqxGUAwAAAAAAAABcjaAcAAAAAAAAAOBqBOUAAAAAAAAAAFcjKAcAAAAAAAAAuBpBOQAAAAAAAADA1QjKAQAAAAAAAACuRlAOAAAAAAAAAHA1gnIAAAAAAAAAgKsRlAMAAAAAAAAAXI2gHAAAAAAAAADgagTlAAAAAAAAAABXIygHAAAAAAAAALia5UvNmuBsBFD5ebwpMmQqFA47u5AELrpgpA49pLcCgYCWLVvh7Ab2KNM0ZZqmgv4iZxfKYVlemZZXoVDI2QXssGGnn6xjjz5MNWpU1/wFfzq7d0hqSorGjT1fB/XqpjVr1mnN2nXOQ7CXGYYhy2MpGCyWbTOn2xbDsOTxpioUCsm2nb0AsH08Ho9CoYDCoaCzC4BLsaIcAPaCMReO0PgrLlS3Lh2dXZXSdVdfoo1r5mvhb7NVv35dZzcAYCcNO/0Ujb/iQp1w/JHOrh2Wmpai8VdcqPFXXKhWrZo7uwEAVcRll4zWxjXz9deCeWrSuJGzGwBQQQTlAFwpJydbG9fM3+7Xin9+cL6VKxx91CGSpNq1ctW5UztnNwBUGo8/cmd8zL704nOc3eX66L1X4ucMPqW/sxsAdkqXzu3LzCk3rpmvlct+1DfzPtQbr0zUXbdfp57dOztPTTrNmjYu83XGXt999ZHefuN/uveuCTrqiL7OU7ETjjy8jySpRo1q6tG9k7MbAFBBBOXATkjPrK19mh+i3LptnF2oqlz6nO8HH34qSVq1eo2+/PJbZzdQKflSc7RP80NUs87+zi64xKmDTnA2lVG/fl1169rB2QxgJ5iGpQZNeqnuPl1lWl5nt+sYhuFskqLlkZrv20RHHH6wzjn7dL0/5UVNfOxu52F73HHHHq6Na+brnUnPOLt2SrOmjXVI314aOXyIXnv5cb31+lPKyEh3HoYd8MFHkbn6unUb9MXcb5zdwG5XPXdf7dP8EOXUaOLsApIKQTmwC6Rn1iYsTzIbN25STm7LMq+Bg0bGj+nZp3+Z/rqN2ie8z46KXTBt6cKpsrnp1vuVk9tS+7XupRUrVzu7gUoqcmMrI6uOcuswRrtRq5bNdUDb1s7mBEMGn+hsArCTbEmGacrny1CdBh1dH5bbpRZa9O57Ynxe2bh5F/Xs01/nXnClpk3/XJI06OTj9eD9t5Q6e8+rXj3H2bRDThp8dsI8unHzLjpj+EV6Y9IUSdKhh/TWU0/c4zwNO+D+ByYqJ7elmrbopsVLljq7gd3Ojl7X5tRoqpyaTZ3dQNIgKAd2QmH+Km1c95dEWA4AlY6/eJPWrvpdkpSeFR2jk+TmFHZcLJD6dMZsSdIpJx/nOCLRoJOPlyR9Pmue5Ai0AOwY2w5p1bLvZYeD8vrSXR+Wl14YUfrjDRs26Zdf5uvlV9/WSYPP1uMTn5eim/vWrpUbP25Pq1mjurNphzgXhGzYsEnvvPuhRp4zVjf85y5J0jFHHaqWLfZNOA5A8tmw+g8V5q+SJOVUb0JYjqRFUA7spI3rFhOWVyHhcKmAZDvCkszMDHXqeKD2bdbY2VWuWBCzs4FMgwb11KtHlx0uG5CRka6uXTqoZ/fOSktNdXbvMfs2a6zevbrqwAN2rERGp44HqmOHA5zNgAo2Ld8clmfWVm6d/SURlrvBR9NmSpJOOSkShJenTZuWatWyuT6fNU9+f0AqJ9gpT1pqqjq0b6tWLXdsg8zY2N21y+axu8Tvlyr4eyEzM0MdOxyg3r26qkaNas7uuNJvVZH3BXYlf0meVpYJyz3Ow1DK08++Gv/4wAO3/DRMWmqq2rdrs0NjUPN9m6h3z64J449T9V0UlG/NM8+/Fv+4InO4tLQ0devaQfu33s/ZFVendq66dG6vBg3qObsqpFZuTXXp3F69e3VVVlams7uM1JQUHdC2tXr36lrhvzM1JUWtW+2n3r26qn27il03Nm2yj3p277xbati3b9dGvXt13a6nCDIzM9S9W0f17tV1r97QQeWzZsUvhOVIegTlwC5AWF51lA4SKhIqnDd6mGbNeFvLFn+rTz56Xd9++ZFWLP1ez/3vga1O5Ldl+oevaeOa+frsk0llAuzMzAzd9J8r9PvPn+vXH2bovXdf0EfvvaLvvvpIAwccm3BszPnnnqmNa+brnjtvkCSNGjlU33/9sf5d8p0+fv8VvT/lRf3202c6+sjIpp1OF10wUhvXzNdfCyIrLktbuujrMps1OV9T34mskCqtQYN6euzhO7Rs8bf69suPNHXy8/r807c0/cPXtrgJ0aMP3a6Na+Zr2OknS5LGjT0//r3/9OM3VLPm7r+wQ/JxhuU167QmLK/CYmO33x/QtOmfq369OjqodzfnYZKkUwZGVpu//OrbFQoJBp/SXx+//4pW/PODZkx7U/NmT9XGNfP1+itPbDPASEtN1Q3XXpYwdn/8/ita8sdXOvOMQcrLy5e2cY92wInH6OP3X9Gyxd/q04/f0NTJz+u3nz7TbTdfrezsLOfhwF5XNizv4MqwvKLzy99+Xxj/uEH9ugl9ij4B8+HUl7Xinx80c/qkCo9B9evXjc+hvpn3oaa+87w+fv8V/fDNNI0cPiR+3KMP3a75v8zSJWPOliT1ObhHwnzu9luuKfWu27a1r3XDhk3auHGTFP38Sps9c7I2rpkfD9DvvWuCViz9Xh+994refjOxbnpGRrpunDBOv3z/qRb8OlvTPnhVv/4wQ3/O/0L33T1hm3PD7Ows3Xzjlfr5u0/1x+9zNO2DVzV18vNa8Mss3XDtZcrMzHCeot49u+rtN/6nlct+1KwZb2vq5Of16w8z9MSjd6l+vTrOwyVJLVvsq5eef0Qrl/2oubOmaOrk5zVz+iTNmflO/Mmm0qpXz9Gdt12rjWvm6/uvP9b7U17U+1Ne1PxfZuniC89WenpawvEjzhoS/+/kFNtM9vNP35Ki/11nTp+kjWvma+b0SZo6+XktXvilxl56rvPUBGMvPVc/ffuJli3+Vh9OfVlTJz+vhb/NTvgZ2bhmvq67+hLnqXCRMmE5NcuRZAjKgV2EsNx93n7jf7r9lmt0QNvWWr9+o2bN+VLffPuj0tLSdEL/o/TF51PU75jDnKdt06MP3a7Ondpp5ao1OnXoeSoqLo731amdq88/fUsXXTBS1avn6N2pH+v+B5/U+x9+omZNG+vpifdtdZJbv35dPfHoXbr7juvVtMk++uXXBfp3+UopOiF/9aXH1LrVjgf8W/LTT5GQMqZD+7aaM/MdDRl8oopLSvTKa5P1wMNPadacL9W5Uzt9MOWlrX7vatSorgnXjdW1V10sy2Ppq6+/18I//tLateudhwKSIyzPyKpDWO4COTnZevX1yZKkwaeUv6nnKScdp+KSEr0z5SPl5GQ7uxM88uBteuLRu9S1SwcVl5Ro1pwv4xumHXl4H70/5UWNOGtz4FRaenqapn/4mi67ZLTq1a0tSfrp5980d963qlYtWw/cd5P69unpPC3BrTddpWeevF9du3TQV19/r4ceeVovvPSm1q3boPPPPVMfTHmJTfFQKcXDcjskry/TtWF5RZRexVxSEnnKJObB+2/RxMfuVvduHeNj0Jy5X0vbGIPSUlP15qtP6rRTB0iS3v/wE9159yOa/M6HatK4ke69a4Iuu2S0JGn/1i1Ut04txzvsPr4UnyTJ7/haY2rXytWrLz2mkcOHaMOGTfr5l9/1xReRr1mS6tero88/fVsXX3i2Gjasr6VL/9WsOV9qwcJFyq1ZQyPOGqLZM99Ri/2aJbxvzH7Nm2ru5+9qzPkj1KhRfUnSDz/+oq+/+UHp6Wm67JLRuvaqxNB31MihmvrO8zqkby/9Pv8PPfbEc3r62Ve0YOEiDT6lvz6d9qYaNoy8V0ztWrl6561n1e+Yw1RUXKzJ73yo2+98SJ/Pmqc2bVpq4mN3l1ns8tz/HtDoUWdI0VJid9/7qF58eZLq1qmlGyeM000Trkg4viLq1q2tUSOH6p1Jz6h9uzZasXK1fp//R7z/+msu1dAhAxPOiXni0bt0/TWXap99Gmj2F1/pvw89GS9xpugmorPmfKlZc77Ukr//STgX7pMQltdoSliOpEJQDuxChOXucfONV+qQvr0kSQ8/+ow6dT9K/fqfoUOPPEXHHn+6FixcJEl6/JE7K/wopiSdPeI0nXbqABWXlGjwaaPjIXbMLTeNV7OmjfXv8pU69MhTdPqZF+qG/9ylU4eep6HDLpCik9w2+7dIOC/m2KMP1eBT+uvhR59R0xbd1PPg49X6gIM19or/xI85/bSTEs7ZlkbNOpfZ9DQnt6Wee+ENSdLiJUv1n5vvTTjn4f/eqmrVsvXtdz+p18H9Nfr8K3TdDXeqX/8zdNOt90uSHvrvrVt87HXokIG69OJzdP+DT6rpft11+NGD1bn70c7DgAQFm5Zr3eoFEmG5K2Skp2nq+9NVVFysE/sfpdSUlIT+nt07q2HD+vrwwxnKy8vfash89ojT4uHBq6+/o07djla//mfo6ONOU+++J2rel99Jku67e0K5j9KPu+w8tWnTUpI05b1p2r9dX/Xue6KO6jdEzVp216S33ivz9FBpB/XupgvOO0uSdPV1t+nwowfrmutv1wUXXa2D+p6oX35doDb7t9D4Ky50ngpUCoTlFXPoIZG5pST99vvmAHPEWUPiT9O9/ua76tw9MgYdc9xQ9epzQvym3X13T1CH9m3j50nS0UcfEn/K8ah+Q3Tq0PN0y+3/1bARF2nAKSP19LOv6N77H5ck9TlsoHJyW2rq+9MlSTM/+yJhbjf+ml23yWjpsn+/L9j8tZZ244RxOvrIQ3Tp5RPUuHkX9epzgs4ceXG8f+Jjd8fLHl5+5Y1q2+EQ9et/hrr0OEYjRl2mvLx81atbW8/+74FS7xqRlpqq5595UA0a1NPatet16tDzlJPbUgcfOlCHHTVIBx0yQLPmfKmbb4vMSyWpSeNGuvuO6yVJTz39srr16qcrr75Fl4y9QQcfOlCffDpLdevU0j13Ro6JOeP0k1W3Ti0VFhapR+/jNWzERbrtzgd13InDNOrcy3X/AxM16a334sd369pBBx/UPXLu8It04skjdNOt9+v8MVfpsKMG6aVX3tJ1E+4s9TdUTO1aubr7jus1Y+Ycdep2lFq26a1uvfrp6ONOiy/MGX7mYOdpOvywgzT4lP6SpEFDRuvY40/X9RPu0oknj1DfwyPXDTVqVNMll12vfv3PiF8DwN0Iy5GsjMycelt+HgrYTqlp1VW7QXtns6vlb/pX61aVfQRuZ6WkZcuQR/5ApKYqdo2+fXpq8ptPS5J6HHScfv1t8yOwMfXr1dFvP30mSfrgo081+LSyK7hbt9pPc2dNkSQ9+/xruujS6xL6F/42W7Vr5eq6G+7UAw8/JUUf44yVKBkx6jK9+dbUhHPatGmpOTPfkST1H3iWZn72RUK/JN1z5w06e8RpZf7O8889U7fdfLUk6Zrrb9dDj0S+xtLmzZ6qVi2ba96X3+nIY09N6LvogpG66T9XaN26DWraovwSBqUdeXgfvf7KE5Kko487LX4BJ0lDBp+oxx6+Q0XFxerc/Rj988+/pc6M+Oi9V9StaweNveI/evJ/L8XbH33o9viKqGeee1UXX5Z4IYId4/FYsjyWivLXOru2yeNNU/3GkYu5ZLRh7SJtWr/E2bxVXl+6PN50lZSUOLtQCcTGiQcefkrX3XCnHn/kTp066AQNG3GRJr/zYfy4++6eoBFnDdGQ08/Tex98okXz56pmzeo657xxevX1yFiraD3Z+b/MUrVq2fr5l9/Vq0/Z1em5NWvo5+8/UVpammbMnKMTThoe76tWLVtL/vhKkvTxtM908qmjSp252awZb+uAtq312hvvatS5l1e4T9EaszOnT1JRUZGaNO+m4ujPZk5Otv7+M/J3O79+VA6mYcqX4lVx0QaFQ0Fn9zY1aNpTlpV4EyhZFBet16pl3zubt8o0vUpNz5Hf70/cV6aS69K5vaZ9EKk/3rvvifrp59+ch6hhw/qaOvk5NWncSN//8Iv6HLZ5Ze/ihV+qevUc/frbQvU4qOwGxTVqVNPP332qjIx0ffb5XB0/4Mx437VXXaxxY88v855b89Lzj6jfMYdp5mdfqP/AyE26imrWtLG+++ojSdJJg8/WtOmfOw9RzZrV9c6kZ9S2TSstXfqv2nZILP03e+ZktW3TSpLKzAVjjjqir157ORLw33rHA7rjroedh+i0Uwfo0YdulyRddOl1erZUXfRzzxmmO26NlJI54aThmjFzTrxvS5564h6dPPA4ffvdTzrkiMiNi9Jq18rVj99Nj9SQ73yE/lr8tyTpfxPv1UkD+mnSW+9p+KhLnaeVMfzMU3X/Pf/RqtVrtF/rzTdPtmbEWUN0390TJEk5uZEbszGlf/7efGuqRoy6LKFf0ScWYjdjnOfHfo86f7ZiYr93H3nsWV117a3O7kotNTVFfn+Bgv4iZ9dOy6nRRDk1qNFd2tqVv6sgb7mzGahUWFEOAKWU3sRtSxu6DYkGtZJ06+0PJvTF/Pb7wnggMeiU/ltdKahove7nn4m81z33PVYmJJekkdHHaT/7fG65IbkkvTX5fUlS547tEtpjX0teXn65IbkkzZ4TCVPKe+Q2dv6Wviel5eRk6+EHI5PkBx5+KiEkl6SzhkVWqvzv6VfKDckl6a3JkVU1nTuV/3Xk5xfohhvvTugDdsi2f6SRZGLjhNfjlaIrwCXp1EEnJhx30oB+2rhxk9774BNpK+Pbcf2OULVqkbIsd9z9iLNbkrRm7To98dSLUvSGa+wRfkX/npitBQiFhZHVfM5Po327NjqgbWRTP+fTOTHf//CL/vhzsdLS0tSq1fZv7gfsFcmTc+9SHTu0Ve9eXeOv4/sdobtuv05zZk5Wk8aNpOiihpgBJx4T30PhznvKhsGKlr144skXJEkHH9RdjRs3jPet37BRio4lW6qfvbu03b9lwtd6zFGH6pYbx2ve7KnxIPyq625znhb32+8Lyw3JFV2lLUmbNuXp4UcT65bHvPTKW1qyJFIG5IyhiU9MDhsaOf+773+uUEhevXqOTo7uaxF7+tFp1eo1+uzzuZJjDrt+feS/Qc+eXZSWllhbvDzrN2yQosF7uwPLPqW0M26/8yFnkyRp1uzN+xDVyq2Z0Bf7nbbwj8iT006x9i2VuAGAZMKKcmAXK33nuDB/ldas+MV5yC7BivLdoyIrymOrSf5dvlKtDzjY2R03+JT+euLRu6Ry3qv0ivKJT72o6R++pjZtWpZZiVja3FlT1LrVfrp+wl3670NPOrslSfvs00A/ffuJioqKVLfR5qc7YivKN23KU6Nm5W/2NG7s+br2qou1du16NWuZuEJ4e1aUx74/CxYu0kF9IzXIS4ttMjTglJH65NNZCX0xxx17uF587mHNnfetjuqXuMnUaadGHoXt1z9StxE7b2dWlCebzJwGqlErUpqoIG+l1q78bbvTGlaUV26PPXyHhgw+UY8+/ly8TEBszG2yX1etX79Rxxx1qF558VE9+b+X4qWn/lowTzVqVCuzovyGay+L1+91rrIrrUf3TvpgSiTQGTRktD78eIYULQ0w6OTjNX/Bn+ras/wNl1XqSZrX33xXZ4/evGr8wvOH65Ybx2vhH39ttcTUO5OeUZ+De2j4qEvjj/Czorzy29kV5cnEl5qtOg3ayzAsBfz5Wrnsu+3+mqvCivKt+eeff3XW2Zfqq683r7S/ZvzFuuLy8yVJdRu2S9i7prTSf0fsSRlFF0B8//XHSktL099/L9PjTz6vSW+9V6a8X2m7akX51qxZu07nnDdO0z8pOxeMrSif+NSLuvzKG53dkqRvv/xI+zZrrKnvT9dpZ0S+P+W5/ZZrdN7oYWXmxrH56H9uvjdeemZrSj8tWafBgWXmtzF333G9Ro0cqltu/6/ujN5c7dC+rWZMe1OS9Msv8/XYxOf0zpSPtGFDZDNTp7S0NP347TTVrpWr1WvW6tHHn9Obk6Zq8ZKlzkPjKrqivEuPY+IlIksrfQ1UejW8JL3xykQdcfjBemPSFI08Z2ypsyJuvvFKjTl/RIVXzFcmu3NFOaTcum2UnhnZm2Xjur+0cd1i5yFApcOKcmAX2lMhOXafiqwor10rV5L099/LnF0JSm9kU6dOZIJQnkcevC1eu7Z16xZbrMtdN/oeN04YV2Z3+djrp28jF0XO1SoVWREeCoWkLRxTkfMl6cQTjo6vtjnnvHFlLiLq168b//it158q8/nHXi8+F1kxFVtBFVPRzwMoT0Z2vZ0OyZGcYsH38f2OkKT4pmmvvBbZ7HNrcqMr67YWKknS4sWbA4w6dSK/J1TqKZ1t/c7YkjrR8/dr3rTMWFn61efgHpKknOytb0oK7A2JIXnhDoXkVcXTz76i2+98KOF1wUVX6+BDB6pN+0MSQnJJqlWrhhRdrbylkFxSfOW0JNWtu3nl+IqVqzV46HlavmKV9tmngW65cbx+++kzPT3xvt2ygXtpr73xbpmv9aJLr9MhR5ysfVv2KDckr6hauZHvy7bG1r+XRr4vaWlp8b0o6tTePEYvW1axMhD16m2ey69c9mOZMTj2GjVyqCSpWs7mOex33/+skeeM1caNm9SmTUs9eP8tWvLHV7r3rgllNv6UpKKiIp08+Bz9uWiJauXW1PXXXKofvpmm115+XF06754yp8Hg5n+Pznl27EnWXj27Kj297Ir4Iw6LLBz67vufnV1wMUJyJCuCcmAXISSvGmx7c2hW+uPSUqIbwuXl5Tu7EmzcmBf/OD2t/NIrw88arIEDjlVeXr4WL1mqOrVzddOEcc7DpFKh8cI//orvKr+ll7M0S+xr2dLXpAr2be2Y2rVy9d97bpIk3XHXw+VOljNKTa5/+PGXMp+38zXni8hKyJiKfB5AeTKy66lm7chj3oTk7vPKq5FAPFYGpd8xh+mvxX+XCaTKk5oaGfPz8wucXQk2bto85pfeGDT2sde7YxsXpkdvfObl5ZcZI8t7bW3FIbA3+FKyHCH5t64NySXpqadf0W13PpjweuGlN/XDj+VfO6RGy/fl5W19DFq1ek384/T0xHnnzM++UIfOR+jKq2+JzxEHDjhWc2dN0QP33Zxw7K706uuTy3ytzz7/mr797ifnodstOztLqsB8vHR/VmaGJCk9ffMYHQqF4x9vTemA2Dnulvf69bfI5uExb0yaogM7HaZbbv9vfAPokcOH6JfvP9U14zdvUBrzw4+/qGPXI3XBRVfHn1A66oi+mvbBq3rhmQe3ugH1rvbk0y/r339XqF7d2nrmqfvj33tFn5pq1bK51q/fqBdfmZRwHtyLkBzJjKAc2AUIyasOy9o8LBpm+UPk6jWR8hSla9CWJ1ZnUpJWrtp88aJSKzWaNW0svz+gU4acowsvjmwoNPzMU8tdLRKr5/3Oux+qX/8ztvpyPiZrmZYkydzC16Rt9UW/L6W/P06PPHhbfLO7LdXQXLV6c2mP+x6YWObzdr4uGXtDwvmxzzH29QAVUTokL8xfRUjuQj//8rt++32h+vbpqdNOHaCMjHS9/OrbzsPKtTo6bjVqWM/ZlaDxPptrAq9YuTr+cSykKf1EzfaIhV9+f6DMGFne69MZs51vAew15YfklA3cHrExYN9mjZ1dCUrXh16+fFVCnyQVFRfrsSeeU/+BZ6ldp8Pj++GcecYpuv2WyBw0mcRWgjfcxtjcsMHm+XpsbC59U2Fb8/mY0nP5U4eeV2bsdb5eeClSaqW0DRs26c67H9GRx56qvoefFL9pccXl5+u80cOch0uSXnjpTQ0aMlot9u+lZ59/XZJ0/HFH6rHoJqV7QlFRkU48eYQUDeuXLvo6voJ+0MnHa/36jTr19HO1du1656lwIUJyJLstJx4AKoSQvGpJqHe5hVXLsZp9jRs3LPfxw5i2bSPBnByP5MuxIvqc88fpi7nf6PNZ8+IXLY+WM/n9c9ESSVLXLh2cXdsUtiOrZba2EnurfdHvy5bqgZ526gAdcXjkscuR54xVMBgp4+K0ceOm+IZGXTqVvRmwLbHPMfb1ANviDMnXrPyVkLyK29JY9vIrkWD8rtuvkypYdkWlxvy0tDQ1bbKPszvugFJj/qJFm2u7xspwtdivWXxT0PJsfmImsT32XjVrVtc++zRI7AQqsXhIbnoIyXfC4sWbS6psLSwvPe/848+tB1OLlyzViFGX6e57H5WkMiHtlsbRyuSv6NMzpcfe8sS+L6VrbhcUFGrdusiGme0ruFnmoug8XNGa3zvru+9/Vv+BZ8X3lDjn7NOdhyRYuWqNLrr02vgikv7HH6V6dbdc2nFXu+PWa1RUXKzhoy7VXfc8ok8+naVZc77Uvfc/rq49j9Xced86T4ELEZKjKiAoB3ZCemZtQvIqJqEm3xbqYL/2+ruSpLTUVF0xtvzNg7KyMnXBuZFV3R9Nm6k1a9c5D5EkPfLYs3rr7ffjf7762ttUUFCo/Zo31dVXXpRw7JNPvyxJOqh3t3gt2oqqSG3vrffF/r/sMQ0a1NO9d0Um7TfceLd+n/+H85AEE596UZI0csSQCq/iianI1wHE+FKzS5VbiY7RSXDxj52zpadjXn8zMnZnZmZo3pffJdTz3Zq3J38Q//i6ay5J6Ctt/BVjJEkLFi5KKKHw9Tc/xD8efuap8Y9Ly8hIV/16kZrCppk4vr3+5rvx3yETriu7iRpQGZmGpdr120VD8gLXh+Sl5y3bO4d5+53N88Qbrt3yGBCbNy78468tlnFx+mjazPjHuTUjNb8laW10zMnJ2fLNvYrY3q/VaWvnx+bjB7Rtrf7HH+XslqKbaB537OFSOTdHY4tTTjzhaHXscEBCX3m+/+GXeFnBG669zNm9wz746FOp1B5I2/Lx9M/iH9euHdnDQlu+bJF28udP0e/RIX176fU3pmjSW+/p5tv+qwGnjFS//mfoPzffm7BCH+5VrVZzQnJUCeVfSQDYLoTkVUc4vHmlsl3q49J+/OlXTZv+uSTp0ovP0bFHH5rQn5mZocceviNeUzy2Wqc8yx2bw61YuVoTbrpHknTluAvUssW+8b533v0w/ojmxMfuVvduHeN9pR3St5ezKf51lf76nLbeF1tRXvaYRx+8TWlpaZr35Xe6/4GJzu4y/vvQk/r772VKTUnRy88/klCiJiY1JUU9undyNlfo6wA2i1wMRmqSM0a7xZbGh3+Xr4yPoc7AZGtWr1kbv8F30oB+ZcLu1JQU3XPnDfGVnnfclVh66q3JH6igoFCSdPml5+rAA/ZP6G/cuKE++ej1+Grx8p7cueqaW6Xo339VNJB3atumlWrWrJ7QVlK8eUNly6JkFfac2E9xwJ8f3bjTvSG5HCu0t3e19rp1G/TYE89Jkk7of5RGDh+S0J+akqI7b7tW+zWPLN658+7EMeiWG8dr3BYWdvSLhsh//70sYVHH30sj5f5atWq+xU3mK2J7v1anrZ3/2hvvxjfyvO/uCWU2Jm3QoJ4ef+ROKVry5H9Pv5LQ//Cjz8Q3nX/myfvLXa0/dMhAde7ULv7nceMje/G0b9dGjz50e7lPljZqVD/+3yLmuf89oGGnn5zQFnP8cUdKjo0wLzx/uG6/5RqlRevTlxYL/gsLi7Rg4aJ4+1a+VTv18ydJjRtFSovtyRXsSD5G9GeLkBzJzsjMqbf9IyWAvS4lLVuGPPIH3H3hsav17dNTk998WpLU46Dj9OtvC52HSJLq1M7VZ5++rbp1Iis5Zs3+UrNmf6n0jDSNOPNUZUY3C7rtzgd1+50POc6WFv42W7Vr5eq6G+7UAw8/5ezWZ59MUrsD22jel9/pyGM3hzL16tbW9A9fU4MGkXqMU96bpumfzFJeXr769umho47sq1q5NdXnsIH6/ofNweD5556p226+Wps25alRs87x9tIuvfgcTbhurNat26CmLbol9F10wUjd9J8ryvSdPeI03XNnZDX5goWLtriiJBwK6/gBZ8b/3LlTO70z6Zn4RkQvvjxJn86Yo6ysTB16SC8d0qenwuGw2nU+PP5orKIlaU47dYBmzflS/fqfEW/HzvF4LFkeS0X5m2vIY8u8vnR5vOkqiV5go3KJjROPPv6cxl9zS0LfPvs00D6NGujb735SYWFRQt9fC+apRo1qOue8cXr19XcS+tJSU/XptDfiQczPv/yuKVOnyev1aNgZp6hWbk0pGsCPPv+KhHMladDJx2viY3fH//zTz7/p81lf6sADWqt3r65SdOO2dge20WtvvKtR515e6uyIB+67SWeeMUiSNH/Bn5r09nv66aff1KF9Wx1+2MHq0L6tHp/4vK64KnFjvt9+nKn69evqy6++0533PKKPp21ejYi9zzRM+VK8Ki7a4OoNLivKNL1KTc+R3+8v96ZSZdWlc3tN++BVSVLvvifqp59/cx6yVWmpqZr+0etqs38LSdKvvy3UO+9+KMsydeawQfHVyM7xo379uvr6i/eVkZGupUv/1XsfTNe33/2kEr9f/fsdqYEDjpUkXXn1LfEwXtE9dL776iNJ0tx532rGzDmSpH+W/avnXyxbe7u00ueeNPjs+OKS7TF75mS1bdNKE596UZdfeaOzO65b1w766L3NAfjrb76rP/9conr16ujMM06Jtw85/Ty998En8T/HjDhriO67e0L8z5Peek8LFi6SZZk6pG8vde7UTgsWLlKXHsfEj7nw/OG65cbxUvQG7BuTpmju3G/UsmVzHX7YQerVo4tmzJyjE04aLkVLJn78fuRz/H3+H/rw4xn66usflJOdpZMH9osvcIl9jpmZGfrhm2nKrVlDq1av0btTPtZ33/+kDRs26YjD+8S/rgcf+Z+uvf6O+OdV+mvJyW0Zb5fj569Lj2MSAvaY3r26aurk5yVJHbocqUV/JZaaiZ2/6K8lmjX7K/3774p4/5q167R4yVJ9/c0P8RKLySI1NUV+f4GC/sQ5AQD3IigHkhRB+e5xSN9eevuN/0mSeh58vH75NXHH+tJq18rVQw/coqOO6OvsUl5evq6+7jY998Ibzi6pAkF5xw4H6NOPI+deNm6CnoqWXVE0pH/5hUfVqeOBpc7Y7J77HtN9D0yMbyAnSRecd5Zuvekq5eXlq2HTsiu1JemyS0brhmsvKxOGS9LFF56tGyeM0/r1G9Vkv0ioI0nvvfuCevXoknDsljgn7QcesL9efv5hNWxYtvxKXl6+brr1fj0+MTJhj3ns4Ts0ZPCJmv3FVzr2+K3XckTFEZRvH4Lyym1rQfnWbC0oV7Q8yj133qAhg090dkmSJtx0j+777xPO5riTBx6nhx+8VakpKQnty5Yt11lnX6r27drortuvKxN0lXb9NZdq7KXnOpslSbO/+EpXXnVLmQDuP9dfrksuGiVFH/EffFr552PvICjfPm4NyhUdg+649VqdMfQkZ5ck6aZb7y/3KcaGDevrjluvia9EdtrSXPSa8RfrissTV6IvWfKPDux0WEKb054MyiWpTZuWmvjo3fGbCKUtXfqvRp13ub6Y+42zK+7Yow/Vf++7qdzSJ7PmfKmrr729TCmbYaefrLvuuL7MeK7owpFx42+K31xQ9HO8544byn1aMj+/QBdeck1CKcbcmjV044RxGjpkYMKxMfc/MFE33Lj55qt2c1AuSePGnq9rr7o4oa08k9/5UOecNy6+Wr+yIygH4ERQDiQpgvLdo1q1bLVtE6lpXN6Kw/J07HBAQli+bv0GvfjyJOXnFyQcV1q3rh3k9Xr11+KlWrZsubNbitZVzMhIV0FBYcLjmDGHH3ZQwoaYm/Ly9PG0z8qd/NavX1fNmu6jUCi0xYuFhg3rq0njhgoGg2U25GnQoJ6aNmlUpu+Atq2Vk5OVcGy57MjFRnkGnXy89m3WJP7n1WvWaup707R8xaqE4xTdDK927Vxt3Ji3QxeZKB9B+fYhKK/cYuPEv/+uLHOhvzXdu3WUx+PRggVbfjpG0fcfcOIxMo1IBcOi4mK99PJbWz0npknjRjrm6ENULSdSmuvf5Sv02uvvqqi4WLVya6ply321evVazV/wp/PUuAYN6unUQSfI5/VKkkLhkH788bd4ndvy9Dm4h7p0bq/ff1+oKe9Nc3ZjLyIo3z7JGpRnZWWq3YGRskvfff9zvBzTjtiveVMNHHDsdo9BLVvsq2OPOSwe7hYUFOqNt6YmrAx26t6to/oc3EOmYSoUDmn6J7P0zbc/Og9LkJaaqk6dIos5fvl1/g6tMI7NgZcvXxnfzH5bju93RHwOr+iGpS+/GtnEuSKGnX6yGtSvJ38goF9+ma+vv/lhi3sMSVL16jkaOmSgsjIjpWls2fp9/h8J+1o4de7UToce0kuWGSmFtWbtOr0xacoWv0eNGtXXgP7HxJ/A9AcCenvy++V+T+rVra19920iO2xr9hdfJfSV/vn75tufVFRU9vomJyc7vjHqN9/8qKLi4nhfq5bNNWXyc1qxYpX+c/O96tTxQBnR8naK1j3v3btrfPHMrXc8UKYMWWVFUA7AiaAcSFIE5QB2FYLy7UNQDmBXISjfPskalAPJ7Mdvpqtx44bq3P1oLfzjL2d33LQPXlWXzu2T6uklgnIATmzmCQAAAAAAgAS9e3VV48YNNX/Bn1sNySVp5arIUw2rVrHwAkDyIigHAAAAAABAouiDGy1b7KtGjcruKxTTtk0rHXZob0nSq69NdnYDQNIgKAcAAAAAAECCb779Mb7v0msvPaGDD+ruPERnnnGK3n3rWaWlpurJ/720xX2JACAZUKMcSFLUKAewq1CjfPtQoxzArkKN8u1DjXJgzzugbWs9/vAdatOmpbMrbsXK1brltvv13AtvOLsqNWqUA3AiKAeSFEE5gF2FoHz7EJQD2FUIyrcPQTmw93Tr2kFHH3mIGjasr9ya1bV6zTot+muJZs/5Sp/Pmuc8PCkQlANwIigHkhRBOYBdhaB8+xCUA9hVCMq3D0E5gF2JoByAEzXKAQAAAAAAAACuRlAOAAAAAAAAAHA1gnIAAAAAAAAAgKsRlAMAAAAAAAAAXI2gHAAAAAAAAADgagTlAAAAAAAAAABXIygHAAAAAAAAALgaQTkAAAAAAAAAwNUIygEAAAAAAAAArkZQDgAAAAAAAABwNYJyAAAAAAAAAICrEZQDAAAAAAAAAFyNoBwAAAAAAAAA4GoE5QAAAAAAAAAAVyMoBwAAAAAAAAC4GkE5AAAAAAAAAMDVCMoBAAAAAAAAAK5GUA4AAAAAAAAAcDWCcgAAAAAAAACAqxGUAwAAAAAAAABcjaAcAAAAAAAAAOBqBOUAAAAAAAAAAFcjKAcAAAAAAAAAuBpBOQAAAAAAAADA1QjKAQAAAAAAAACuRlAOAAAAAAAAAHA1gnIAAAAAAAAAgKsRlANJy5AMZxsA7BiGk4qzZcvgGwZgVzDsyP8521G++DeK7xiAXSQyDAOARFAOJDE77GwBgB1kyLa5SqgwvlcAdhEjGviGGVcqJvp9IiYHAAC7A0E5kKRs25bBkkYAu4BhRsYUVIwdvVHJGAxgp8XGERZAVEhs/CUpB7Cz4sMv4y+AUgjKgSQVtkOENAB2CUOGbDvkbMYWEJQD2FUiw4jNzcoKsu1wtPwVl7EAdk5sHCEoB1AaMwwgSdnhyC900+SfMYCdYxqGwuGgsxlbYIcjNxUIygHsLNMwFY6OKagYOxySyfgLYCcZZrT0FXNgAKWQsAFJKhwOSKUeGQOAHWEYhmQY8fAX22bbtuxwSAY3KgHsJMM0FA4R0mwPOxyMB1wAsKNMw4gsPuOJHgClcIUHJCk7HJZth1lRDmCnxMaQUChy8w0VEwoFZRHUANgJhmHI4Ime7RYKBaPfO2cPAFScaRrMfwGUQcIGJLFQMCCTGo0AdoJpRVaTx8o5oWLC4UA85AKAHcGNyh0T+35ZluXsAoAKMQ1DhmEqFPI7uwC4HAkbkMTCIb8M02BVOYAdZpmWglwkbLdQMPI9sxh/AewgyzIVDgcpfbWd7HBIYcpfAdgJhhUZP2LlTAEghtkFkMRCoRLZbOgJYAdZZmQ1XihAUL69bDusUCggkxWNAHaAYUQWOsRuumH7hIIlskyT8isAdojHioy/PFEJwIl0DUhiti2FAsU8egpgh1geS+FwiNU0OygUKJHJUz0AdkBs7hYMlDi7UAHBYOT7xs1KANvLNGNlVxh/AZTFlR2Q5ILBEhkGdRoBbB/TNGWahoKBImcXKigYLJZth2V5mE4B2D6WZSoY9Mu2KbuyI+xwSKFgiTzMfwFsJ4/lkW2HuVEJoFxc2QFJLhwKKBTyy+PhQgFAxXksM3qRUOzswnYIBIpkmZZMk+f/AVSMx2PJMAwFA4XOLmyHQKBYhmEwBwZQYaZpyrRMBfzMfwGUj6AcqAICJUUyDEMWFwoAKsC0TJmWpaCf1eQ7K+iPrSr3OLsAoCzDkGV5FAqWKBwKOnuxHcKhQKRWOfNfABXk8VgK22FuVALYIoJyoAoIhyMXCl6PRwa7GgHYBq/HUjgcVICyK7uArYC/UJZpyrKYVgHYOq/HkmFIAW5U7hIBf6EMGfJ6uVkJYOssy5JpmgqWFDi7ACCOKzqgivCXFMi2bS4UAGxV5JF/UwE/K2l2lWCgWKGgXx6vR9yrBLAlkRtqlgL+QoXDrCbfFcLhUORmpWXJMllZDqB8kTJNHoWD/vhmwABQHoJyoIqw7bAC/nyZpikPJQAAlMOKjg+BQJFCQb+zGzvB7y+QZMjj9Tq7AEAyDHm8HoVDAW5U7mKRGw8Beb2R1foA4OTxWpJhq8TPanIAW0dQDlQhwUCJgv5ieTwWJQAAJDDNyKPpoVBQAR453eXscEiB4nxZpikvNysBOPiiT5yUlOQ7u7AL+IsLJEPycrMSgIPHG3niJFCSLzsccnYDQAKSNKCK8fvzFQr65fV6ZZr8EwcQfdzU61VYtgLFm5zd2EWCweJICQCPJY9FCQAAEV6vR6ZpqqQoj5BmNwmHgyopjjxZSVgOIMZjWfJYHgX8hQoGKLkCYNtI0YAqqKQ4T+FQUF5f5MIMgIsZhnw+j0xJ/uI8he2w8wjsQpELsWJ5vB55PITlgNt5vR5ZliV/Sb5CIUpe7U6hYIn8JfmyLMJyANGQ3OtRMFBEySsAFUaCBlRJtkqKN8kOheTzeWVShgVwJcMwleLzypCh4uJNCocCzkOwG/hL8iNhucfDnhGASxnRciuRkLxAwUCx8xDsBsFAsfz+SFjuIywHXMvj8URD8mL5KTkIYDuQngFVlG2HVVy0UaGgXz6vl7AGcBnLMpWS4pFsW8VFGwnJ9zB/Sb4CgSJ5PJa8Xq/YXw5wD8Mw5EvxyrQs+YvzFQwUOQ/BbhT0F6ukOE+mZcrn88kwGYEBtzBkyOv1yuOxFAwUys++EAC2k5GZU892NgKoWnwpGfJ40xQKhxUMBGXb/LMHqrLISmZLoaBffn++7DDlVvYWjzdVvpRMhW1bwUBQYf5bAFWaZVnyej2y7ZD8xQWUW9mLLMsrb2qWTMNUIBBUKER9eKAqM63IhuqGYUSf5OEmJYDtR1AOuITlSVVKSoZsGQoFQwqGgs5DACQ5y7Tk8VoyDEMBfyH1GCsJ0/LIl5Ip0/QoFAopGAjJFtMvoCoxTVMej0emaSgYLFGgJJ+FCZWAYZjypmTK4/EpHAorGApxwxKoYgwjskjEsiyFQkEF/AU8SQlghxGUAy5iGKa8vgx5vCmybVvBYIjVNUAVYJmmLI8l0zSjFwj5CnMzrNLx+tLl9aXLlhQKBhUKhgnMgSRnGKY8HlOWZSlshxX0FygYKHEehr3M40mVJyVdpmFGblgGw7LZ3BpIaoYMWR5TluWRYUQ2VGeRCICdRVAOuJBleeXxpcuyvLJtKRwKKRgOyQ4zHABJwzDksUxZpiXDNBQOhxQMFBLQVHKGacrrTZfHmypJCoVCCoXCrHAEkogRfcTfMq3Ihum2rUCgiICm0jPk9aXJ602TDEPhUFihcFjhcEgs/geSh2masqzIDUpFN/ENBIpkh1kABmDnEZQDLmZa3sgKG2+KJCkcDiscthW2bdnhMI8MA5WIIUOGZcg0TJmmIdOM7McdCvoVDJYoFCQgTyaRwDxVlidVhmFGblqGIyUBbNtWmBuXQKUSG3cN05BlWJIR+TcbChQrGCwiaE0ihgx5vKmyvKkyTSsy/tph2bF5MDcugUrFNA0ZRmQMNk1ThmHIDtsKBYsVCBYTkAPYpQjKAUiGIcvyyePxybJ8kUJvUbGLBVuSwWgB7FlG7J9j5AIhwlYoFFQ46Fcw5OfioAqwLJ8sj0+W5ZVhRlZHSZJt27LDtmzDlmFvHpcB7G52fC5kGvGBWJIUDgcVDgYUDPmpgVsFmJZHHitFpscr0/Rs7rAjC0diH0eeIwCwJ9iGHVkgYpSe/0p2OKxQyB95BdkoGcDuQVAOoAzTtGRaHhmGFXmZpgwZVNIF9iBDitSvtsPRlW6hSEATCkVvXaEqMgxLpmXJND0yTEumDMk0ZBOUA3tM5F+bHblZZYeiK42DCoeDPG1XhUVWrHqi468pw7RkyJCYAwN7lGHYUtiOzH/t6PgbCsm2WRwCYPcjKAcAAAAAAAAAuFqkwCkAAAAAAAAAAC5FUA4AAAAAAAAAcDWCcgAAAAAAAACAqxGUAwAAAAAAAABcjaAcAAAAAAAAAOBqBOUAAAAAAAAAAFcjKAcAAAAAAAAAuBpBOQAAAAAAAADA1QjKAQAAAAAAAACuRlAOAAAAAAAAAHA1gnIAAAAAAAAAgKsRlAMAAAAAAAAAXI2gHAAAAAAAAADgagTlAAAAAAAAAABXIygHAAAAAAAAALgaQTkAAAAAAAAAwNUIygEAAAAAAAAArkZQDgAAAAAAAABwNYJyAAAAAAAAAICrEZQDAAAAAAAAAFyNoBwAAAAAAAAA4GoE5QAAAAAAAAAAVyMoBwAAAAAAAAC4GkE5AAAAAAAAAMDVCMoBAAAAAAAAAK5GUA4AAAAAAAAAcDWCcgAAAAAAAACAqxGUAwAAAAAAAABcjaAcAAAAAAAAAOBqBOUAAAAAAAAAAFcjKAcAAAAAAAAAuBpBOQAAAAAAAADA1QjKAQAAAAAAAACuRlAOAAAAAAAAAHA1gnIAAAAAAAAAgKsRlAMAAAAAAAAAXI2gHAAAAAAAAADgagTlAAAAAAAAAABXIygHAAAAAAAAALgaQTkAAAAAAAAAwNUIygEAAAAAAAAArkZQDgAAAAAAAABwNYJyAAAAAAAAAICrEZQDAAAAAAAAAFyNoBwAAAAAAAAA4GoE5QAAAAAAAAAAVyMoBwAAAAAAAAC4GkE5AAAAAAAAAMDVCMoBAAAAAAAAAK5GUA4AAAAAAAAAcDWCcgAAAAAAAACAqxGUAwAAAAAAAABczcjMqWc7G5FcTMtSanqmfGmpksG9D+w+hm3LX1KiksICBQN+ZzfgGoZpKjUjU77UVBmm5ewGKqVQIKCSokL5iwqdXYCrpKSlKyU9XabH6+wCdi3bVsgfUHFRvgIlJc5eIKn5UtOUkp4hy8tYir3EthX0+1VSmK+An3wCuwZBeZLLyKkuX2qqSkpK5A8EZIf5z4ndyZDX51GKzyc7FFbehrWyw2HnQUCVlp5dTSlpqSopCcjv98u2GXeRHCzLks/nlcfrVeGG9fKXFDsPAao0X2qaMnKqKRgIqMQfUCgUch4C7HJer1c+n0+GYSt//XqFggHnIUBS8aakKCOnukLBkEoCfoWCjKXYezxer1JSvJItFaxfy+927DSC8iSWU6uOgsGgiotZnYA9z+vzKjU1Vfnr1igYYMIPd8jJraVg2FZxEQEjkpdpmsrISFdJYb6K8vOd3UCVlJaVLV9qmgoKimTb3OTHnufxeJSWnsaNSiS11IwMpWZkqaCgSOEwgSQqD290jM1bv05BPxkZdhx1OpJUdm5t+f0BQnLsNQF/QIUFhcqskSuDkj9wgeyauQoECcmR/MLhsPLy8uVLy1BKWrqzG6hyUtPT5U1NVX5+ASE59ppgMKj8vAKlV6suy+txdgOVni81VSkZWcrLyyckR6UTCAaVV1CgrOo1ZFmUxsSOI91KQqmZmQqHw/JTgwl7WSgUUklxsTKrV3d2AVVKanqGwoahElaAoQopKChQenaOZBjOLqDKMAxTqVk5KsinNj/2PtsOq7CgUFnVajq7gEovPae6CvILnM1ApWGHwioqLFJGdcZY7DiC8iSUmpGlIlY0opLw+wOyPF5ZbIiFKiw1K1tFhYy7qFpsWyop8Ss9K8vZBVQZ6VlZKilhcQkqj1AopJAdli8l1dkFVFqpmZkKBgLszYNKLxAMSobk9fmcXUCFEJQnGW9KioKhoLMZ2KtK/H6lpGc4m4EqweP1KRwMRVJFoIopKSmRL43xG1WXLy1d/hJKFaJy8RcHlJKR6WwGKq209AzKviJplJQElJLOGIsdQ1CeZLwpKQoFqAeGyiXgD8qbwh1bVE2elBQF2T0dVZghWwblV1AFGaapMDXJUQkFQ0F5vDyNiSRimKwmR9IIBgLysKIcO4igPMlYpkchNs5AJWPbYRkmG2agavJYlkJhghZUXaFwWCZjOKog07IUDhHsoHLiJxPJwjAJyZGEWASCHURQnmxMSeIfPADsKbYkg4sDVGW2IZupBaogw2baDAC7BHNhJBl+/WNHEZQDAAAAAAAAAFyNoBwAAAAAAAAA4GoE5QAAAAAAAAAAVyMoBwAAAAAAAAC4GkE5AAAAAAAAAMDVCMoBAAAAAAAAAK5GUA4AAAAAAAAAcDWCcgAAAAAAAACAqxGUAwAAAAAAAABcjaAcALBFWdVznU0AgErMMpneA8DuwhgLAFUbozwAYItS09JVp2FjGVwUAEBSaNi8pbKq1XA2AwB2AcZYAKjaSD4AAFuVlZOjRvu2VHp2NWcXAKCS8Xq9qtOgoWrV38fZBQDYSYyxAFC1EZQDALbJMA3Vb7SPatZr6OwCAFQy+QVFyqleTY2at1RqRqazGwCwE4pLAoyxKNeIYUM0/vIxzmYAScTIzKlnOxtReWXVqKGSQFihYNDZVel179pJHo/H2awffvpFeXn5zmYkmazsLG1YudzZnPQaNW/lbHKdlBSfVqxar6ysdGWkpai4qERrVv6r4oI856FVUkZONYXCUiAJx92tadumlarl5GjWnHnOrqTWu2c3rVu/Xr/+tiDeViu3plq2aJ5wnG3b+ua7H1VcXJzQ7kYZGRnK37BW4SrwM16r/j5KTU93NrtKSopP+QVFCgRCys5Mk2lZ2rBurdauWOY8tMrzeLxKq1ZdhQWFzq4qZ//WLVSjevW9OqbffdsNOvusoTpj5IV6972PnN1wSMa5M2Ps5jHWtqWszDTZtqr8GGuYpnJq1lJefoGza6/q3bObs0nFxcX6+tsfnM17zKxp70Tm2PVaxNvOHXWmbr/xGl0z4TY9/PjTCcfvrK9mfai6tWupy0FHacXK1c5uV8vOztL6JBtjUTmwohx7zGvPP6Epbz5f5rXwpy90z+0TVLNGdecpe9VlF43WkYf1cTbvFueePUwnHHe0sxmVhGGarn75A5HwLC+vUBs3FsiX4lWDfZqoeu36zm8VksgtN1ylKW8+r5zsbGdXpdKze5cKr8ypX6+uprz5vG64+vKE9oN7dy/zu2fqpBf016/z9MDdt6hZ08YJxyO5paT4yoxjbnrFxuwSf0BrNuSppMSv6jVrqkHT/diErgr7z7VXaMqbz6t+vbrOrj1mn0aRp84aNWyQ0H5Y34M07pLzE9qQvBhjI2NsQWGx1m7YpEAwyBi7F+RkZ5eZ201583lNm/q6fv56hi4YPdx5yl7TJDo2Nmm8Y+V6jj368C1+PfXr1lFWVqaq5eQ4uwDsIFaUJ5lkXlH+9/xvVFxSohHnXipJSktN0f6tW6pr5w7qd/Th+n3BH+re51jnaXvNhuULNPHpFzXu6v84u3a5P36eq89mzdWIcy9xdiWNZFwVUxGNmrdSIBhSfgGrTmMsy1R2VppSfD4VFBRqzYplChQXOQ+rMqrqivJ3Xn9OB/furiatumjDxo3O7krjpuuv1JjzRqpu0wO3ufq7fr26+vXbz/ThtBkafMY58faTBxynJx+5V08//4refHuqJCkzM0Mn9DtKQwYNUEFBoc4YeaE+mTmr1Lu5R1VbUZ5TvZpWrFrv7HK19LQUZWelKRQOa/XKlcpft8Z5SJXkphXlr70wUUce1kf7dzxY/y5f4ezeI2pUr6bWrVpo9hdfJrQ/cPctGjb0lIQVlkjOuTNjbPmyMtOUkZ6qUDhUJcdYoxKuKM/JztaS+V/r519+1/jrb5GioXHz5k3V96Ce6tq5gyZNfm+PX1+Xt6I8NTVVnTu209ff/rDNuWx5nn/qIXXu2E6tOxzk7FKzpo2VmZGhH3/+1dnleqwox47ilif2qJKSEs2aM0+z5szTx598pv8+PFFDh5+vBx55Uq1aNNdpgwc6T9kralTfs5sW5tasIdM0nM1ApRQKhbV+Q4HyCoqUkZGuBk2aKSe3jvMwYJeoXm3XrZD5a/Hf8d9BH3z0ic67+EqNvnCcMjLS9cwT/93jYz+wpxQWlWjtujyFQ7bq1quvOvs0dR6CJGcYe38euW79hjIhuSTVrFld/kDA2QxUGXn5RdqwMV+2LcbYPWzjpk3xud1rk97RrXf+V0ceP1ifz56rgSccq7Zt9mwZzbAddjapuLhYs+bM26GQXJJq1qguwyg/ulv01xJCcmAXs3ypWROcjai8UtLSFArbssNlB+DK7tIxo1VSUqJHJz7r7JJlWRp0Un/9uWixPv1sdry9Vm5NXXLhORo/doyGDh6oPgf10I8//aqNmzbXRj531Jnqe1BPzZn3dbxNknr16Kqhpw7Uxo15WrU68a7++MvHqFZurn6fvzChXdENOPofd7Q6d2wnwzBUr14d9e7ZTYFAUMv+3XxHslHDBhpz3khdNma0Bp98ggzD0M+//h7vP+O0U3TsUYfpt98Xqqho8y/F/fZtqnNGnqHUlFR17dJBA/ofq57dO0uScnNrqnfPbvJ4PFq8ZGn8nGSQkpKi4oKqV2s+p0auwmE7/pglNgsEggoEQkrxeZWVnSVvWrqKCwuScnzaGl9qqmxbClexr+vUU05Uk8aNdN+DT6ikpESKTsQvvmCU1q7boDVr1uqE447WOSNO1/DTB6tB/Xqa99W3Ce9RK7emLjr/7Pjxl1x4jq4bf6mGDh6oNq1b6rvvf1JxceS9S79/9WrVtGDhnwnv1b1rJ50+5GStWrVGa9etV5v9W2rkmafp0L4HKbdmDcmIlGHp0O4Affn1dwnnxmRlZeqC0cP156LFeuOtd+PtrVvtpxOOO1qfzJxV5txffpuvBvXrqmvnDtqwcZPmfvlNvK9O7VoaNfx0nXv2MI0afrp6dO2k+Qv/1PoNlXcF/o7w+XzyFxdViX+7GVk5Sk1L5SmgcoTDtoqK/TINQ5mZGcquUUPFxcUKBvzOQ6sM07TkTU1TwAUh7ckDjlPzZk308ONPKy9/2/OxIw49WEMHn6QLRg9X184dVLt2rv7+e1n890FpGRnpuuKyCzR+7IUaOnigOnU4UB3bH6DePbupd89uWvTX38rLz9ehfXpr8Ckn6O+ly7RxU546dThQZ54+SIf26R0psWhEagrv36qFvvnuRym6KnTEsCE69+xhGj3yDB3cq7sWLV6i1WvWOj+NKicZ586MsVsWDIVVXOyXaRrKyEivUmOsYRhKTc+Q3195xtLUlBRdOuYcLf1nmV56dZKzW/Xr1VGf3j30xbyv4/vWnH3WUDVp3Ei/zV+oY446TJdffJ5OGzRAb06OPG2oClzjl9a5YztdfME5uuSCUTq4dw9998PPOvbow9WwQT3dfs+D8ePaHdBGw4edqry8Aq1clVhHvE7tWjplwPE647RTNObcETrumCO0fMVK/bPsX/Xs3kVDTz1Jh/btrcyMdPlSfOrds5uaNN4nHo6PGDZERx7Wt9yblH0P7qnTBg/UBaNHqEe3zqpbp5b+WbY8IZuIHTdoYH/NnvuV6tWto7NOH6xLLzxHh/U9SPkFBVry9z8Jx0vSkYf10bmjztIF5wzXoJP7Kz0tTd//+LPzsL0qGcdYVA7l35YC9rDq1SMrBjdu2hRvu+bKS/TT1zN09llDpWiYPvikEzT9vTdUt06t+HHdu3TUteMvLVNj9sLRwzV+7BgNGzooob1Du7YaP3aMmjZplNAeE5usS1LH9gdo/NgxGj92jLp27hA/ZtTwofrpq0817pLzVb16jrp17qjHHrhT996xuUzLypWrNH7sGN120zXxNkm6947/6JILz9HCPxdpyCkDNPbicyVJrVruF/+7+h7UM+EcoLIq8Qe0dn2eiopLlJWVpQZNmyurRq7zMCSJmjWqa/zYMRrQ/xjNmvaO7rj5Oh3QprWOOeow3XjdFXr68fsTjs/NranxY8fo4gvO1jezP9KZQwfJ6/Wq/YFtdcHo4Zo66UWlpqSUef/j+x2Z8D6S1KNbZ40fO0b7NW8mSWrbupXGjx2jVtFNOC+/+DyNHztGY84b6Thz5z317MuSlDD21qtbR/M+e08XnX+2FvyxSPO++k4nnXicvp3zsRo2oD4/ktem6MpH07TUsEkz1aybWE8aVd+LTz+i1198UmMvPld1audq0EnH6+H7btOcT9/VPo0Sfx4aNWygr2d9qHGXnK9/l6/Uv8tXauSZp2n82DE6tE9vHdSzm7KzMiVJh/btrfFjx8RrlXfqcKDGjx2jJo0jc+7YPHfUiDOkaEg++5N3dM0VF+vvpcs0Z97XOvrIQzTnkynavzVlWpB8wratjXmF2ripUJbFGFsZeL3e+Mdnn3Wazhhyii46/2y9/MyjOrDt/qpbd/NTsRW5xo+5947/aNrU1zV65BnKzMxQty4dI2Now7JzxHYH7q/xY8eo3YH7J7R379pJX37+vu6/6yaNPPM0eX0+9erRRe+//ZLaH9hWvbp30fixY1Sndi1lZmbEx9DTh5wcf48Rw4boqnEXJbyvJD3+0F16+9VndMWlF6he3do68fhj9MDdt2jOp1PUcr99E47te1BPXX3FxTpt8EB998XHGnRSfzVt2linDR6oya89W2bftgnXXK7XXpioOrVzNferb2SZlu6780bdcfN1CccByYqgHJXCOdEJ8+ez58Xbvv3+Jw0963w127+r+g08XUefMETDR1+iWrk1dc6ISJAtSdNnRGrK9u7ZNd4mSQf16q5vvvtRfQ9ODJ1ju2PP+GxOQntM78P76+gThkiSJj79oqrVa6Fq9VrowUefkiQdf+yRuuvWG/TWO++paesu6nvUQDVo3l7/e+5ljRg2RN27dJQkfTR9pt54a4oGDeyvg3t3lyQdc9RhOqhXd9193yNa8vc/OmHQmep6UGQTz0mT34v/XRNuuTv++QCVnW3b2ripUBvzCuXzeFSnXn3VbriPVAkeA8eOueLSC/T30n/U9eCjdeTxg7V/x4O1avUaDeh/rBrUr+c8XKeefKKefOYldehxuI48frAaNG+vt955T/u3bqEhgwY4D6+QV9+crGr1WmhudBV73SYHqFq9Fmpx4K6/kRhbAdO61X7xtmGnnaJqOTkace4luvXO/+rG2+5R++6HachZ5+mfZf+WOhtIPsUlAa1Zt3mjz4b7tmQTOpcYNXyo+h19uGZ8NkdNWkXmsU1addGEW+5Wg/r1dN+dNyYcf/MNV6pe3To6/uRhGnXBWI26YKxOGHSmJOnj6TPVb+Dp+n3BHwnnxDzxvxdUrV4LLfzzL0mKz3O79D5KkjSg/zFq2KC+LrvyBt142z265Y771a7rYTpj5IXxFaBAMioqLtGatXkq8TPG7i3HHRNZlPHTz78ltLdq2VxXXT5GZ466SD0PPU6HHnOStJVr/KeffyXhGl/Rp9NHDBuijz/5TK069FbfowaqQ4/DdfZ5lykrM3LjcFvS0tL01KP3Kic7Wxddfo2q1Wuho/ufqjad+ui6G+/Q9z/+rLvuf0TV6rXQqtVrtHzFyvgYenT/U51vl2DQwP4afNIJmvvVt9rvgB7qc+QA7dumm6689ibVqV1LD913m/MUSdIj99+uq2+4TQcfcaK69zlWF10eWfB33qizEo675MJz9NU332vY2WN0+90P6oRBZ+rUYaN1z38fTTgOSFaM1tijcrKzNf7yMfHX1VdcrLkzpqpLp/Z6/qXXEx6Jf//D6Zo+4/OE89965z3l5xfo6CMOibdN/zRyzEE9I2G0JHXp1F6ZmRl64qnntd++TVWv1J3i3j27adOmPH37/U/xtu0x9uJztWLlap130ZUJj99ffcNtKi4u1onHHxNvG3/dzdqwcaNuuv5KSdJ1V16qBX8s0t38EgFQic2aM0+nDT9fm6Jlrv5dvkKTp3woSWraZB/H0ZEbfY9OfCah7cprb5aij7kmg2X/LlftWpufhqhVq6YkacWKVfG2VavX6P0Pp8f/DACVRUVrlI8++0wVFxfr7PMvS9jI+f6HntCMz+bosL4HqXmzJvH2w/oepJ9/+V2fz54bb5v5+Rf67fcFOnng8fG2HVG3Tm1J0opVm8fZjZs26d33Pip1FABUTJ3atXRon9569fkn1KFdW02f8bl++iUxKK9Xt46umXC7Jk/5IKF9S9f4V11/a8I1fmpqqi44Z7gk6fyLr0yYJ378yWfllikpz/HHHKEG9evpuRdf13Mvvh5vLygojC/Q21HnjIwsQhx94eUJZawef+p5vTP1Q3Xp1F6dOhxY6oyI8y8Zr/89F3nKUpKee/F15eXlq/m+m38n5NasIUXnzaV98PGnZcrdAsmKoBx7VHZ2VvyRofFjx+iKSy9QfkGhhpx1nsaMTSxRUlpGRrp6dOuss04frFA4pMb7RB7pVDTAmb/wT/U5qEe8re9BPfXPsn/jQXvpVeW9unfRzFlfxP+8PWpUr6b2B7bVpzNnqdhRw7G4uFhLli5LeGR1zdp1uvKam9XugDZ665WntX/rFrrsyhsSzgOSnWEYyslOV05WuvzBoFYu/1er/vlbsm3noUgSS/8pu2J68ZK/JUm1owFyaeXVtF21eo3mL/xTbfZv6eyqlGzHz+vUD6ZJkt5+9RmddfrghD4g2aWmeJVbI0spKT6tX7tW//w5X6EqUKPezZxjWHkaNWyg5s2a6It532jN2nXObk15/2NJ0uGHHhxv83isUkdsZttSOBRyNm+X9z/6RJL07MQHdd6os5SenuY8BEhKaakpyq2ZpRQfY+zu1qtHV21YvkAbli/Q/B9ma9Ir/1Ob1i10zYTbdNKQ8sv1lQ6DVYFr/MVLlsav8Q9o00pZWZn6cNqMndpL4YhoOZNX35zs7Nop2dlZ6tyxnb7/8edyQ/up70fmt4f26e3s0t9LlzmbtOTvf9SoYWK+8dU33+vE44/Rk4/cq1YtNz+NCVQVBOXYo5b+s6zMI0PBUGiLK/T69ztKLz79iJb98b3uv+sm9ejeWaFQWBkZ6QnHfTpztmrXylWLaG3bvgf31LRPP9eatev0+4I/4kF5h3ZtlZmZscWyK9sSq0s7ZNCA+C/k0q+W++2rWqVWJCr6y++fZf/qkD69NHnKB5o1Z3N5GSDZpfg8qlk9S2mpKcrLy9Oyv/5Q3jpWE1RFsc3wvJ7NtR63ZVV0w6LSK7Urq4YN6ieshPl05mydc8HlMi1T9991k/5Z+J2uvuLihHOAZJSdmaZqOZkKh0P6Z/EirV1R9sIYyaciK8ob1K8rSVq+YqWzS5L0b7S99KKPGZ/NUds2reJlBBVdZb5/6xaa8fmOzadjfvjpFw06fZQKCwt1241Xa9Ev83TbjVcrLY3AHMnJNAzlZKUrJztdoRBj7J6w9J9luv2eB3X7PQ9q3NX/Ua/Djlfbzn318ONPOw/dom1d47dquV/8Gr9mjeqSpD+iJaV2VMMGkVKGC/9Y5OzaKbH3/WdZ4orvmKXR8oGlw++tCYaCziadOmy03v9wuk4ecJzmzpiqj959Ve0OaOM8DEhaBOXYa+Z+9a3efe8jde/SUccfW3ZjtycfuVfPPfmg5i/4U20791W3g4/R6AvHae269c5D9Ul05Xjvnt2UlpamXj26xh8R/XTmrPgGbbH65J9+NrvU2RVXUFgoRR+rOu6kM8p9OVeMH3fMEWrYoL42bcpTty6dlJmZkdAPJKvMjFRVr5YlGdLqlSu18u+/FIqGqYAkVa9WTZJUUuJ3dlUqscdPv/shUqs85rVJ76jFgT014NThmvXFl7ri0gs0e/q78Y3pgGTi9ViqWT1L6empysvL0+L5v6m4IN95GJJURVaUFxUVS9IW56JZGZH2/ILIfFeSrrvxDm3alKd3Xn9OEx++R089ep/efPkp/bFose6+f+dLCX40fabadOqjo08Yovc/+kTnjTpLs6e/kzRPIwExqSle1aiRpbS0yOIRxtg94++ly3T73Q/q9rsf1MSnX9Qvv853HrJN23ONH44+GbClcbSiiooj43G1nGxn106JjfNbqpUe23y5sKjI2VVha9et15CzzlOr9r10yx33q0njRpr50Vu6dMxo56FAUiIox151w813SZJuvmF8QnuPbp118oDj9NSzL+nG2+7Z5sZps774UorWJu/WpYMUrZ+o6EqYOrVrqVXL/dSjayct+3e5Fv21JOH8MrZwsfHnosXKzy9Q/bp1NGvOvHJfpeugpaWl6c5brtM33/2ooSMuUN06tXTjdVckvGfswqYCC4GASsGyTFWvlqHMjDQVFBRq2eJF2rim/NVpcK/U1FQ1a9pYGzZu1MZNmyQp/jhrZnriU0FbFRuPd+MgOWr46VJ0H4zyfDpztk4dNlq33fWA2uzfUsPP2PomSkBlk56Wopo1smRahlYs/1cr/965lXBITkv/iaxsbd2qhbNLKrWh8aJFm+fJNWvWUHZ2ll55/W3Vr1dHgUBA518yXr0P61/u4pXyVCTEn/vlNxo++hJdduUNata0sc47O7JhKJAMsqJP6hiGGGOT0PZc4y9eslSS4k+y76hYWZT9W2/7pqBt2zJUsXnw8mjN9Jb77evskkqN/4v+Wuzs2m4rVq7WXfc/oh59+2n1mrW64eqxZZ78B5IRQTn2qkV/LdHjTz2vxvs01AWjI5tiqNQmEb/PX1jq6MhjUdWr5SS0SVJhYZE+nz1XXTp3UI9unfXrbwvitRdjIfpBPbuqc6f2+mTGLMfZZcUm/tnZZe/ETp7ygdrs31JHHd7X2VXG+LEXqn69urrh5rv0+ey5ev/D6RoxbIi6do6E+YrW+ZKknF18Nxm7TmZGmurWru7qV0xaik81q2fJ5/Fq7eo1Wr74DwWKd3xFAqqG8urKXjh6uNLT0/TKa2/H22K1D1u2aF7qyMjmS8NOOyWhLWb9+g2SpGo5Wc6uXWLwSSfo1FNO1O/zF+qV1zd/rjWqR1bDlzZp8lRpF6wiwu7nHMPc9srMSJUkGaahatkZys5KV1Fhsf6e/5vyKY9VJVWk9Mq69Rs05f2Ptd++TRM2n1d07j1i2JDI6vH3Ips3S9K4S8/XF/O+1rkXXaF+A0/XuRddoZdenaTi6GrIilgXnVc7S6qUN6d/8+3IOMu8uHJzjjlue8XGWK/PUo3qWcpIT1VRYRFjbBKr6DX+gj8W6a/Ff6tHt87q0K5tQl9uzRrxHGNbXn7tLSm6iWhqSkpCX3Z24px3/YaNyqngPLi4uFgvvTpJdevW1hmOuXVWVqZGjxym4uJivfHWlIS+7eGcI69dt16fzYo8zZ9O6SxUAQTl2OvuvPch5ecX6KrLL4oPut9+/5Mk6dyzz9QhfXqpVm5NnTvqTM355F15vR7HO0RMnzFLzZs10WmDBmjmrM01EwsKCvXFvK815ryzVbtWboXqKS788y9t2pSnw/oepFq5NdWieTM1qB+p93XNhNu1eMlSPfXofTrr9MGqXy9S7/HoIw7R3BlTlZMdmdi33G9fXXzBKE39YFq8Lvm4a25ScXGxHrjnlvjftX7DRi1fsVI9u3VWk8aN1KRxIzVtsk+8H3tXcWGhNq7fsPdeGzZu++U8x3m+s207XzFZWenKycmQvySgZX8v1vpVW3/SA+5xwnFH69H/3qFauTXVqGED3Xfnjbp2/KUqKCjUvQ8+nnDsjM/maN9mTXTZRaPVu2c3HX3koZr82jMqLCz/hsuP0RU8g08+UWlpaerepaPzkApr2mQf9e7ZTb17dtMxRx2mxx64U48/dJd+n79Qg844J35cakqK3nv7JT335IPxWr3tD2yrCdeOkyS990H5+2qgcnCOYZX2tSvG8nLOj0nxeZVbbfOGncv+WshmclVYbNX2hecO1/jLx5R5xerHXnblDfp3+Qo988R/ddW4i1S3Ti0NPOFYffbx28rOztI5F16eMB6XFJdo/9YtdPKA4+LjZ8/uXRLqmG/LDz/9Kkk6ZeBxys7Oipe7evnZxzTplf/FV2a22b+l7rj5WqnUhnOofMqMQ5X1tRvHWJ/XUkZ6qmpWy5bX42GMrQIqeo0vSfc/9IQkafJrz2rY0FOUW7OGhp56kmZ/8q7q1q0dP25rvvz6Oz38+NM6oE1rfTZtso4/9kjVrpWrkWeeps8/nqx+Rx8eP/ann39TWlqa+vc7SjWqV9tmPfCrrr9Vi/5aogfvuUX/uXac6terq+OPPVKfffS26tappTFjr9G6UvOF7XHqKSfqq1kf6pSBx0vRUH/wSSfo2KMO1VfffL9TG5wClYWRmVNv28/CodLIqlFDJYGwQsGymypUdn/P/0YbN23SAV0OcXbpkgvP0YRrLtfjTz2vK6+9SZJ05tBBuun6K+N3VDdtytNpw8/XSSf20/AzTlW1eomPjR7Ydn999nFkNeCpw0brg48/jfddedmFumrcRZKk5m27x1dxb03sc4p55fW3de5FkbIp9evV1avPP64D2rQudUbkF96oC8Zqyd//6L23XlTP7l3UrtuhCTtOjzlvpG66/kr959Z7dF80QBo29BQ9cPfm8PzjTz7TKUPPjv85GWRlZ2nDyvI3DUHyqlV/H+VUr6ZAICiv16P169Zp7fKyO6hXZRk51RQKS4EkHHe3ZvJrz6rPQT3UuGXneGmUFs2b6cvPP9DLr72l8y6+MuH4c0acrjtvuV6jLxynV9+cLEUf3/zi0yn6fPZcpaenx8MPRR8pHXHuJfrmux9LvUvkJuLLzz6mZk0bS5KKiop0610P6KtvvtcHk1/W0OHna+oHmwOSenXr6NMPJqlunVrxthYH9kzYeDOmfr26+vXbz/ThtBkaXCr4PunEfnrq0fsSjpWkZf8u1xtvTdFtdz9YZnXk6JFnaNylF5RZGXTvA4/rxtvuSWhLdhkZGcrfsFbhKvYz7lbN2xyo/IIiZWakqaSkRKuXL3NtnVyPx6u0atVVWKrmdlX12gsTdeRhfZzNcRdffq2effE1SVKzpo312gsT1bxZk3h/UVGRLrr8Wr0+6d1SZ0X2cJj+3hsJbTGrVq/RhFvu1kuvTpKipRQvPHeEjjvpjITN6/fbt6k+mvJawgryhvt10InHH6NrrrhY9erWibdL0nMvvq6LLr8moa0qYu6cnJq3OVDFJQGlpnhdM8YapqmcmrWUl1/g7NprcrKztWT+15r9xZfqNzBSQm9b5s6YqlYt9yuTI8RU5Bo/5tH/3qEhgwYkHPfYxGflS/FpxLAhCX9H7Fr/osuv0XMvvp5wzu03Xatzzx6W0DZ9xue67Mob4n9f+wPbauqkF+JlTfLy8tWoRWThyKxp76htm1ZlvqZ6devo9Rcmqm2bVgnt5X0OE665XJdceE6ZsVuSZnw4Se0PbBt//xbNm+mmG8aXWXm/5O9/dNKQEfpj0c6XdNlVsrOztJ4xFjuAoDzJJHNQ3r1rJ4VCIX31zffOLqWmpKhzp/YKhUL6Yt7X8faMjHQNPCFS8+qzWV+osLBITRo3Uv16dTVn7lcJ76FSm3V+/e0PCaFHbs0aatVyPwUCAc376ttSZ2xdty4d1bljO/36+wItXrJUfy3+O6G/c8d26talo/5dvlKfz54bD+BjX8+GjRv18y+/J5yj6OdZXFysr7/9Id7WoV1b9ejWRQsW/qm/l/6jBbt4B+zdjcl+1RQLyv3+gNasXK7CTTu2+iCZVdWgvG2bVqqWk5MwIU5LS1OnDgdq1arVZcagenXraN9mTbRg4Z/xkDoWlD/zwqu6ZNx1at6siY48/BDNX/CHpkc3Wd6Sow7vq0YNG2jylA+0es1aZWSkq0O7A/Tb7wvK1L3NrVlDRxzWR6ZpatFfSxJ+Tzj17tlN69av16+/LYi31cqtmVDupaSkRL8v+EN5edu+sO3WpaM6dWinpf8s09wvv6mSK2UIyquW5m0iN6w2rt+g1f8mzlvcxk1B+f6tW6hG9c2l0pz++HORVqxcndB2UK/u6tCurRYvWapPZs5Sfjkh2GsvTFTrls112ZU3qKg4ss+EJOVkZ+mm669Us6aN1fvw/vr5l9/VtMk+alC/nn76+bf4DdiYenXr6LBDDlIwENTiJX9rbqn5eMf2B6hr5w5auWqN5n31rf5dviLh3KqKuXNycuMYWxmDckXnfBs3bkrYI2xrOrY/QKmpqeXmCKVt6RrfqXq1HB3at7fS0tI07ZOZWrFytRo1bKDG+zRMmF/XrVNLzfdtVu44rGhA3+egHsrOytTMz7/Q7wv+cB6ifRo10CEH91JBYaGW/P1PPFPp0K6t0tPTNTtabtapR7fO6tyxnf5ZtlyfzJhVZmyWpCaNG6lhg/rljt3tD2yrjIyy718rt6Z69eiqBvXr6suvvys349nbCMqxowjKk0wyB+Wo2pjsV0216u8j0zS06t+lsl36OGlVDcp3hVhQXt4KdCQPgvKqpXGL1lq3aqXyNpR/Ye8mbgrKd4e+B/fU268+oxMGnamZn3/h7Na5o87U7TdeozNHXaTJUz5wdmMbmDsnJzeOsZU1KAe2hqAcO4oa5QCALSouKtTKf5a4NiQHgGTzzx/zXRXgYPeplhMplRL7/9LS0tI05JQTpWhZAsAtGGMBoGojKAcAbFHe+rJ1oAEAlRebyWFX+Xz2XK1YuVqPPXCHxl1yvnr37KajDu+r8WPH6OtZH6jdAW109Q23afmKlc5TgSqLMRYAqjaCcgAAsEMKCws1+4svy9QzBwAkv7Xr1uugw/vr/ocm6sjD++rlZx7Vq88/oUvGnKNZX3ypg484UY888bTzNAAAgKRFjfIkQ41yVFbUWURVRY1yVHXUKEdVRY1yVGbMnZEsqFGOZESNcuwoVpQDAAAAAAAAAFyNoBwAAAAAAAAA4GoE5QAAAAAAAAAAVyMoBwAAAAAAAAC4GkE5AAAAAAAAAMDVCMoBAAAAAAAAAK5GUA4AAAAAAAAAcDWC8mRjx/8HALBHGIy6qNIMg59wVFGGswEAALgBs1vsKILyJBMOhWWa/GdD5WLIkMJhZzNQJYRDQcZdVGmGTNkhxnBUPeFwWKZBWg4AO8MOh2UwFwbgEox2SSboL5FlWc5mYK/yeD0KBPzOZqBKCAb8sryMu6jCTEO2TVCOqiccCnGjE5WSZVkKBwPOZqDSslmfiyRiWR6F/OQT2DHMHJNMSXGRvF6vsxnYq3w+r/yFhc5moEoIlJTIY3mczUCV4PN5FSwpdjYDVUawpEReL2M4Khevz6cS5s5IIv6iIqWkpDibgUopJcWrkqICZzNQIQTlSShQVKiUVH5JoXKwLEuGYSjgL3F2AVWGvzBfqYy7qIJSU1NVuGmTsxmoMgrz85SalupsBvYa0zTl9XpUUkRQjuRRlJcnX4rP2QxUOqZlyrIs+YtZCIIdQ1CehAo2bZTP55XHw+oY7F2GpIyMNOVvWOfsAqqUwrw8+bxeeViViCokPT1NxYUFCodDzi6gyggFA/IXFSk9nbAclUNGRroKN6x3NgOVmm2HVZyfp/SMdGcXUKlkZKQrnzEWO4GgPEnlrVmjtPQ0yrBgrzFNS1nZWSrYtEmhADUWUfVtXLNKaWlp8vlYTYPkl56WJjsUUlEeq8lR9RVu2iiFw0pjZTn2IsMwlJmZoeKCAvkpeYUkVFyQL9vvV3o6YTkqH9MwlJWVqeK8TQrytDt2gpGZU49dGZKUYZrKrpEr27ZVXOJXKMSKMOx+pmnKl+KT1+tV/vp1/BKCqxiGoazquZJpqLjYr1Ao6DwEqNR8KSlKTfGpuCBfRfl5zm6gSkvPylJKWoaKS/zys8kX9hDDMJSS4pPX51PRpg0qKSpyHgIklbT0TKVkZclf4ldJCdeC2LsMw1RKik8+n1cFG9ZzIxI7jaC8CvClpCo1I0uW1yPblsSO1NgN7OhE3w6HVVKQr+JCNseAe3lTUqLjrlfRgReo1AzDkC0pUFSkwvxNssNh5yGAK5iWpfSMTHnS0mVIshnDsZvYsmUapmTbKi7KV1FevvMQIHkZhtKzsuRLTZdhMB3GnhcbY+1wWMWFBSouYIzFrkFQXsUYhhGtHA3sWrZsZkBAOQxDVDJDpWfbBONAeQyD8Ru7D2Mv3IKxFHsDYyx2B4JyAAAAAAAAAICrcdsPAAAAAAAAAOBqBOUAAAAAAAAAAFcjKAcAAAAAAAAAuBpBOQAAAAAAAADA1QjKAQAAAAAAAACuRlAOAAAAAAAAAHA1gnIAAAAAAAAAgKsRlAMAAAAAAAAAXI2gHAAAAAAAAADgagTlAAAAAAAAAABXIygHAAAAAAAAALgaQTkAAAAAAAAAwNUIygEAAAAAAAAArkZQDgAAAAAAAABwNYJyAAAAAAAAAICrEZQDAAAAAAAAAFyNoBwAAAAAAAAA4GoE5QAAAAAAAAAAVyMoBwAAAAAAAAC4GkE5AAAAAAAAAMDVCMoBAAAAAAAAAK5GUA4AAAAAAAAAcDWCcgAAAAAAAACAqxGUAwAAAAAAAABcjaAcAAAAAAAAAOBqBOUAAAAAAAAAAFcjKAcAAAAAAAAAuBpBOQAAAAAAAADA1QjKAQAAAAAAAACuRlAOAAAAAAAAAHA1gnIAAAAAAAAAgKsRlAMAAAAAAAAAXI2gHAAAAAAAAADgagTlAAAAAAAAAABXIygHAAAAAAAAALgaQTkAAAAAAAAAwNUIygEAAAAAAAAArkZQDgAAAAAAAABwNYJyAAAAAAAAAICrEZQDAAAAAAAAAFyNoBwAAAAAAAAA4GoE5QAAAAAAAAAAVyMoBwAAAAAAAAC4GkE5AAAAAAAAAMDVCMoBAAAAAAAAAK5mZObUs52NqBwMQ/J5LXksUzKcvUDlZdtSKBRWIBhWOMwQg8rJ6zHl9ZgyTAZYoCJs21YoZDO2Y6/yeU1ZlimTsRsuYtu2wuHI+BsKMf5i+3mi817GTmDrYllGMBhWiPmuK/0fjKX1KjY1JccAAAAASUVORK5CYII=)"
      ],
      "metadata": {
        "id": "KAauL7QCFjIF"
      }
    },
    {
      "cell_type": "markdown",
      "source": [
        "\n",
        "\n",
        "*   preprocessing needs to be done in exactly the same way as when the model was pretrained\n",
        "*   To do this, we use the AutoTokenizer class and its from_pretrained() method\n",
        "*   Using the checkpoint name of our model, it will automatically fetch the data associated with the model’s tokenizer and cache i\n",
        "\n"
      ],
      "metadata": {
        "id": "93nABe8qGxO6"
      }
    },
    {
      "cell_type": "code",
      "source": [
        "from transformers import AutoTokenizer\n",
        "checkpoint = \"distilbert-base-uncased-finetuned-sst-2-english\"\n",
        "tokenizer = AutoTokenizer.from_pretrained(checkpoint)"
      ],
      "metadata": {
        "id": "sKEnTJZAbGMt",
        "colab": {
          "base_uri": "https://localhost:8080/",
          "height": 81,
          "referenced_widgets": [
            "7814751c97cd40b5b6d7d33171a3465b",
            "9913c1b0afe74b0eb2f51e172fc51a26",
            "7bb6a68ce3a649458bf496090b4842a6",
            "3eb720e691044529ab19c8e54ab298f8",
            "2fbd1d1896b74eb2bf49fcdf76aabbb0",
            "a1f0f6e010e54affac07619d09dc69ac",
            "35ac8cd8c54e4552bbdb7f9b192aa822",
            "c0d23749bb2844078d1d6b069305d2dd",
            "d2a5e24f9cfe4d168f0ae67559c267b4",
            "8661fad130704eb6a6deca2dce0bdea8",
            "4d98ff14910a4511b7143c86331eccef",
            "9af8a989a610408c837d4ff776f6e9bb",
            "f6055a94c5f1453e8760d195a03c2fe4",
            "7cbb59c8a62a4553bdace1d93434f3db",
            "31437f0140314fb6a11ab05ead51ec84",
            "8fcc3b6f26ab419b83c3c12c4b54e1f5",
            "72fe748ff0fe4deb851b3140bd044b1e",
            "b9d1444084cd451b94b8b34a7153da54",
            "5fa690a81d9a497aa0373cc6e79630df",
            "e09842a4078e4c1ead1920a2835d610e",
            "155c5fc4bf9b459ab3f0a3cf8138200c",
            "589321e538bf4411bc8df476429730ad"
          ]
        },
        "outputId": "f9c23058-08e1-45fd-c3c6-e4ab70a80b77"
      },
      "execution_count": 8,
      "outputs": [
        {
          "output_type": "display_data",
          "data": {
            "text/plain": [
              "tokenizer_config.json:   0%|          | 0.00/48.0 [00:00<?, ?B/s]"
            ],
            "application/vnd.jupyter.widget-view+json": {
              "version_major": 2,
              "version_minor": 0,
              "model_id": "7814751c97cd40b5b6d7d33171a3465b"
            }
          },
          "metadata": {}
        },
        {
          "output_type": "display_data",
          "data": {
            "text/plain": [
              "vocab.txt:   0%|          | 0.00/232k [00:00<?, ?B/s]"
            ],
            "application/vnd.jupyter.widget-view+json": {
              "version_major": 2,
              "version_minor": 0,
              "model_id": "9af8a989a610408c837d4ff776f6e9bb"
            }
          },
          "metadata": {}
        }
      ]
    },
    {
      "cell_type": "code",
      "source": [
        "raw_inputs = [\n",
        "    \"You are master of your soul \",\n",
        "    \"Captain of your life\"\n",
        "]\n",
        "inputs = tokenizer(raw_inputs, padding = True, truncation = True, return_tensors = \"pt\")\n",
        "print(inputs)"
      ],
      "metadata": {
        "colab": {
          "base_uri": "https://localhost:8080/"
        },
        "id": "F9WVceA4M6uU",
        "outputId": "c05236de-1d46-4e7c-9409-08eace64bf7c"
      },
      "execution_count": 9,
      "outputs": [
        {
          "output_type": "stream",
          "name": "stdout",
          "text": [
            "{'input_ids': tensor([[ 101, 2017, 2024, 3040, 1997, 2115, 3969,  102],\n",
            "        [ 101, 2952, 1997, 2115, 2166,  102,    0,    0]]), 'attention_mask': tensor([[1, 1, 1, 1, 1, 1, 1, 1],\n",
            "        [1, 1, 1, 1, 1, 1, 0, 0]])}\n"
          ]
        }
      ]
    },
    {
      "cell_type": "markdown",
      "source": [
        "to download a pretrained method Transformers provides an AutoModel class which also has a from_pretrained() method"
      ],
      "metadata": {
        "id": "I_qe8y9oOBUP"
      }
    },
    {
      "cell_type": "code",
      "source": [
        "from transformers import AutoModel\n",
        "checkpoint = \"distilbert-base-uncased-finetuned-sst-2-english\"\n",
        "model = AutoModel.from_pretrained(checkpoint)"
      ],
      "metadata": {
        "id": "XL8CI8kHM6dD"
      },
      "execution_count": 10,
      "outputs": []
    },
    {
      "cell_type": "markdown",
      "source": [
        "This architecture contains only the base Transformer module:\n",
        "--given some inputs, it outputs what we’ll call hidden states, also known as features. For each model input, we’ll retrieve a high-dimensional vector representing the contextual understanding of that input by the Transformer model.\n",
        "A high-dimensional vector?\n",
        "The vector output by the Transformer module is usually large. It generally has three dimensions:\n",
        "\n",
        "Batch size: The number of sequences processed at a time (2 in our example).\n",
        "Sequence length: The length of the numerical representation of the sequence (16 in our example).\n",
        "Hidden size: The vector dimension of each model input.\n",
        "\n",
        "While these hidden states can be useful on their own, they’re usually inputs to another part of the model, known as the head. The different tasks could have been performed with the same architecture, but each of these tasks will have a different head associated with it."
      ],
      "metadata": {
        "id": "7QONShtbOpMX"
      }
    },
    {
      "cell_type": "code",
      "source": [
        "output = model(**inputs)\n",
        "print(output.last_hidden_state.shape)"
      ],
      "metadata": {
        "colab": {
          "base_uri": "https://localhost:8080/"
        },
        "id": "UKUJKtQ0M6SW",
        "outputId": "1ab95b54-4932-4f4b-ff2e-5623b104b748"
      },
      "execution_count": 11,
      "outputs": [
        {
          "output_type": "stream",
          "name": "stdout",
          "text": [
            "torch.Size([2, 8, 768])\n"
          ]
        }
      ]
    },
    {
      "cell_type": "markdown",
      "source": [
        "The output of the Transformer model is sent directly to the model head to be processed."
      ],
      "metadata": {
        "id": "jzK9Vxl8ahTa"
      }
    },
    {
      "cell_type": "code",
      "source": [
        "from transformers import AutoModelForSequenceClassification\n",
        "checkpoint = \"distilbert-base-uncased-finetuned-sst-2-english\"\n",
        "model = AutoModelForSequenceClassification.from_pretrained(checkpoint)\n",
        "outputs = model(**inputs)"
      ],
      "metadata": {
        "id": "wt-RstrYM6DH"
      },
      "execution_count": 12,
      "outputs": []
    },
    {
      "cell_type": "code",
      "source": [
        "print(outputs.logits.shape)\n",
        "print(outputs.logits)"
      ],
      "metadata": {
        "colab": {
          "base_uri": "https://localhost:8080/"
        },
        "id": "l0ZVitZcM51n",
        "outputId": "9fd5a7b3-b860-4b5e-8a36-d5a709328664"
      },
      "execution_count": 13,
      "outputs": [
        {
          "output_type": "stream",
          "name": "stdout",
          "text": [
            "torch.Size([2, 2])\n",
            "tensor([[-4.3677,  4.7108],\n",
            "        [-3.7869,  3.9510]], grad_fn=<AddmmBackward0>)\n"
          ]
        }
      ]
    },
    {
      "cell_type": "code",
      "source": [
        "import torch"
      ],
      "metadata": {
        "id": "6u3LCfZsbspR"
      },
      "execution_count": 14,
      "outputs": []
    },
    {
      "cell_type": "code",
      "source": [
        "predictions = torch.nn.functional.softmax(outputs.logits, dim=-1)\n",
        "print(predictions)"
      ],
      "metadata": {
        "colab": {
          "base_uri": "https://localhost:8080/"
        },
        "id": "OUvYOs5efLrj",
        "outputId": "4633d057-4d8a-47e0-bc55-fa98cad01791"
      },
      "execution_count": 16,
      "outputs": [
        {
          "output_type": "stream",
          "name": "stdout",
          "text": [
            "tensor([[1.1408e-04, 9.9989e-01],\n",
            "        [4.3578e-04, 9.9956e-01]], grad_fn=<SoftmaxBackward0>)\n"
          ]
        }
      ]
    },
    {
      "cell_type": "code",
      "source": [
        "model.config.id2label"
      ],
      "metadata": {
        "colab": {
          "base_uri": "https://localhost:8080/"
        },
        "id": "qlyLhJyufXk5",
        "outputId": "83082270-4e13-43aa-b41e-98f57ee0279f"
      },
      "execution_count": 17,
      "outputs": [
        {
          "output_type": "execute_result",
          "data": {
            "text/plain": [
              "{0: 'NEGATIVE', 1: 'POSITIVE'}"
            ]
          },
          "metadata": {},
          "execution_count": 17
        }
      ]
    },
    {
      "cell_type": "markdown",
      "source": [
        "Now we can conclude that the model predicted the following:\n",
        "\n",
        "First sentence: NEGATIVE: 0.0402, POSITIVE: 0.9598\n",
        "Second sentence: NEGATIVE: 0.9995, POSITIVE: 0.0005"
      ],
      "metadata": {
        "id": "j1y5dy3EfnEH"
      }
    },
    {
      "cell_type": "code",
      "source": [],
      "metadata": {
        "id": "1M809_c1fcc1"
      },
      "execution_count": null,
      "outputs": []
    }
  ]
}